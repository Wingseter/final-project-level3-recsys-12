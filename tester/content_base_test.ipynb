{
 "cells": [
  {
   "cell_type": "code",
   "execution_count": 1,
   "metadata": {},
   "outputs": [],
   "source": [
    "import numpy as np\n",
    "import pandas as pd\n",
    "import os\n",
    "\n",
    "from sklearn.feature_extraction.text import TfidfVectorizer\n",
    "from sklearn.metrics.pairwise import cosine_similarity\n",
    "from scipy import sparse\n",
    "from sklearn.preprocessing import LabelEncoder, MinMaxScaler\n",
    "\n",
    "from tqdm import tqdm\n",
    "\n",
    "import torch"
   ]
  },
  {
   "cell_type": "code",
   "execution_count": 2,
   "metadata": {},
   "outputs": [],
   "source": [
    "def similarity_cosine_by_index(indicies):\n",
    "    return cosine_similarity(X=synop_matrix[indicies], Y=synop_matrix)"
   ]
  },
  {
   "cell_type": "code",
   "execution_count": 3,
   "metadata": {},
   "outputs": [],
   "source": [
    "book = pd.read_csv('../data/ver2/Book.tsv', sep='\\t')\n",
    "ratings = pd.read_csv('../data/ver2/Rating.tsv', sep='\\t', low_memory=False)\n",
    "\n",
    "tfidf = TfidfVectorizer(analyzer='word', stop_words='english')\n",
    "synop_matrix = tfidf.fit_transform(book['synopsis'].values.astype('U'))\n",
    "synop_matrix = synop_matrix.astype('float32')\n",
    "\n",
    "chunk_size = 10000\n",
    "matrix_len = synop_matrix.shape[0]\n",
    "\n",
    "user_encoder = LabelEncoder()\n",
    "item_encoder = LabelEncoder()\n",
    "\n",
    "\n",
    "ratings['item'] = item_encoder.fit_transform(ratings['item'])\n",
    "ratings['user'] = user_encoder.fit_transform(ratings['user'])\n",
    "\n",
    "user_cnt = ratings.groupby('user').agg({'item' : 'count'})\n",
    "valid_users = list(user_cnt[user_cnt['item'] < 10].index)\n"
   ]
  },
  {
   "cell_type": "code",
   "execution_count": 4,
   "metadata": {},
   "outputs": [],
   "source": [
    "from sklearn.model_selection import train_test_split"
   ]
  },
  {
   "cell_type": "code",
   "execution_count": 12,
   "metadata": {},
   "outputs": [],
   "source": [
    "gr = ratings.groupby('user').agg({'item' : 'count'})\n",
    "val_user = list(gr[gr['item'] >= 5].index)\n",
    "val_ratings = ratings[ratings['user'].isin(val_user)]\n",
    "train_ratings, valid_ratings = train_test_split(val_ratings, stratify=val_ratings['user'], test_size=0.2)"
   ]
  },
  {
   "cell_type": "code",
   "execution_count": 7,
   "metadata": {},
   "outputs": [
    {
     "data": {
      "text/plain": [
       "1075591"
      ]
     },
     "execution_count": 7,
     "metadata": {},
     "output_type": "execute_result"
    }
   ],
   "source": [
    "train_ratings['user'].nunique()"
   ]
  },
  {
   "cell_type": "code",
   "execution_count": 8,
   "metadata": {},
   "outputs": [
    {
     "data": {
      "text/plain": [
       "6439164     20092\n",
       "9066138     27753\n",
       "8827609     26827\n",
       "10343734    32032\n",
       "10803408    34300\n",
       "            ...  \n",
       "8216848     24742\n",
       "739711       1792\n",
       "13859507    41213\n",
       "4020999     10977\n",
       "2177336      5587\n",
       "Name: item, Length: 6720157, dtype: int64"
      ]
     },
     "execution_count": 8,
     "metadata": {},
     "output_type": "execute_result"
    }
   ],
   "source": [
    "train_ratings['item']"
   ]
  },
  {
   "cell_type": "code",
   "execution_count": 13,
   "metadata": {},
   "outputs": [],
   "source": [
    "rows, cols, data = train_ratings['user'], train_ratings['item'], train_ratings['rating']\n",
    "n_users = ratings['user'].nunique()\n",
    "n_items = ratings['item'].nunique()\n",
    "\n",
    "rating_matrix = sparse.csr_matrix((data, (rows, cols)),\n",
    "                            dtype='float32',\n",
    "                            shape=(n_users, n_items))"
   ]
  },
  {
   "cell_type": "code",
   "execution_count": 10,
   "metadata": {},
   "outputs": [],
   "source": [
    "cosine_similarities = cosine_similarity(synop_matrix)"
   ]
  },
  {
   "cell_type": "code",
   "execution_count": 15,
   "metadata": {},
   "outputs": [
    {
     "name": "stderr",
     "output_type": "stream",
     "text": [
      "  0%|          | 0/569 [00:02<?, ?it/s]\n"
     ]
    },
    {
     "ename": "NameError",
     "evalue": "name 'k' is not defined",
     "output_type": "error",
     "traceback": [
      "\u001b[0;31m---------------------------------------------------------------------------\u001b[0m",
      "\u001b[0;31mNameError\u001b[0m                                 Traceback (most recent call last)",
      "\u001b[1;32m/opt/ml/final_project/final-project-level3-recsys-12/tester/content_base_test.ipynb Cell 10'\u001b[0m in \u001b[0;36m<cell line: 1>\u001b[0;34m()\u001b[0m\n\u001b[1;32m      <a href='vscode-notebook-cell://ssh-remote%2B101.101.210.152/opt/ml/final_project/final-project-level3-recsys-12/tester/content_base_test.ipynb#ch0000009vscode-remote?line=7'>8</a>\u001b[0m result \u001b[39m=\u001b[39m torch\u001b[39m.\u001b[39mtensor(input_data \u001b[39m@\u001b[39m cosine_similarities)\n\u001b[1;32m      <a href='vscode-notebook-cell://ssh-remote%2B101.101.210.152/opt/ml/final_project/final-project-level3-recsys-12/tester/content_base_test.ipynb#ch0000009vscode-remote?line=8'>9</a>\u001b[0m result[torch\u001b[39m.\u001b[39mnonzero(torch\u001b[39m.\u001b[39mFloatTensor(input_data\u001b[39m.\u001b[39mtodense()), as_tuple\u001b[39m=\u001b[39m\u001b[39mTrue\u001b[39;00m)] \u001b[39m=\u001b[39m \u001b[39m-\u001b[39mnp\u001b[39m.\u001b[39minf\n\u001b[0;32m---> <a href='vscode-notebook-cell://ssh-remote%2B101.101.210.152/opt/ml/final_project/final-project-level3-recsys-12/tester/content_base_test.ipynb#ch0000009vscode-remote?line=10'>11</a>\u001b[0m scores, items \u001b[39m=\u001b[39m torch\u001b[39m.\u001b[39mtopk(result, k\u001b[39m=\u001b[39mk, dim\u001b[39m=\u001b[39m\u001b[39m1\u001b[39m)\n\u001b[1;32m     <a href='vscode-notebook-cell://ssh-remote%2B101.101.210.152/opt/ml/final_project/final-project-level3-recsys-12/tester/content_base_test.ipynb#ch0000009vscode-remote?line=13'>14</a>\u001b[0m users \u001b[39m=\u001b[39m np\u001b[39m.\u001b[39mtile(users, (\u001b[39m10\u001b[39m,\u001b[39m1\u001b[39m))\u001b[39m.\u001b[39mT\n\u001b[1;32m     <a href='vscode-notebook-cell://ssh-remote%2B101.101.210.152/opt/ml/final_project/final-project-level3-recsys-12/tester/content_base_test.ipynb#ch0000009vscode-remote?line=14'>15</a>\u001b[0m user_list \u001b[39m=\u001b[39m np\u001b[39m.\u001b[39mconcatenate([user \u001b[39mfor\u001b[39;00m user \u001b[39min\u001b[39;00m users])\n",
      "\u001b[0;31mNameError\u001b[0m: name 'k' is not defined"
     ]
    }
   ],
   "source": [
    "for st_idx in tqdm(range(0, n_users, 10000)):\n",
    "\n",
    "    next_idx = st_idx + 10000\n",
    "    end_idx = min(next_idx, n_users)\n",
    "    input_data = rating_matrix[st_idx:end_idx]\n",
    "    users = range(st_idx, end_idx)\n",
    "    \n",
    "    result = torch.tensor(input_data @ cosine_similarities)\n",
    "    result[torch.nonzero(torch.FloatTensor(input_data.todense()), as_tuple=True)] = -np.inf\n",
    "    \n",
    "    scores, items = torch.topk(result, k=10, dim=1)\n",
    "    \n",
    "\n",
    "    users = np.tile(users, (10,1)).T\n",
    "    user_list = np.concatenate([user for user in users])\n",
    "    score_list = torch.cat([score for score in scores])\n",
    "    item_list = torch.cat([item for item in items])\n",
    "\n",
    "    temp_df = pd.DataFrame()\n",
    "    temp_df['user'] = user_list\n",
    "    temp_df['item'] = item_list.cpu().numpy()\n",
    "    temp_df['score'] = score_list.cpu().numpy()\n",
    "\n",
    "    temp_df['user'] = user_encoder.inverse_transform(temp_df['user'])\n",
    "    temp_df['item'] = item_encoder.inverse_transform(temp_df['item'])\n",
    "\n",
    "    if st_idx == 0 : inference_df = temp_df\n",
    "    else : inference_df = pd.concat([inference_df, temp_df])\n",
    "\n",
    "inference_df = inference_df.sort_values(['user', 'score'], ascending=[True, False])"
   ]
  },
  {
   "cell_type": "code",
   "execution_count": 20,
   "metadata": {},
   "outputs": [
    {
     "data": {
      "text/html": [
       "<div>\n",
       "<style scoped>\n",
       "    .dataframe tbody tr th:only-of-type {\n",
       "        vertical-align: middle;\n",
       "    }\n",
       "\n",
       "    .dataframe tbody tr th {\n",
       "        vertical-align: top;\n",
       "    }\n",
       "\n",
       "    .dataframe thead th {\n",
       "        text-align: right;\n",
       "    }\n",
       "</style>\n",
       "<table border=\"1\" class=\"dataframe\">\n",
       "  <thead>\n",
       "    <tr style=\"text-align: right;\">\n",
       "      <th></th>\n",
       "      <th>user</th>\n",
       "      <th>item</th>\n",
       "      <th>score</th>\n",
       "    </tr>\n",
       "  </thead>\n",
       "  <tbody>\n",
       "    <tr>\n",
       "      <th>0</th>\n",
       "      <td>0</td>\n",
       "      <td>103474</td>\n",
       "      <td>1.488660</td>\n",
       "    </tr>\n",
       "    <tr>\n",
       "      <th>1</th>\n",
       "      <td>0</td>\n",
       "      <td>103465</td>\n",
       "      <td>1.481825</td>\n",
       "    </tr>\n",
       "    <tr>\n",
       "      <th>2</th>\n",
       "      <td>0</td>\n",
       "      <td>43048</td>\n",
       "      <td>1.449955</td>\n",
       "    </tr>\n",
       "    <tr>\n",
       "      <th>3</th>\n",
       "      <td>0</td>\n",
       "      <td>33071</td>\n",
       "      <td>1.426067</td>\n",
       "    </tr>\n",
       "    <tr>\n",
       "      <th>4</th>\n",
       "      <td>0</td>\n",
       "      <td>71938</td>\n",
       "      <td>1.398082</td>\n",
       "    </tr>\n",
       "    <tr>\n",
       "      <th>...</th>\n",
       "      <td>...</td>\n",
       "      <td>...</td>\n",
       "      <td>...</td>\n",
       "    </tr>\n",
       "    <tr>\n",
       "      <th>5</th>\n",
       "      <td>13</td>\n",
       "      <td>94009</td>\n",
       "      <td>0.677304</td>\n",
       "    </tr>\n",
       "    <tr>\n",
       "      <th>6</th>\n",
       "      <td>13</td>\n",
       "      <td>44158</td>\n",
       "      <td>0.661345</td>\n",
       "    </tr>\n",
       "    <tr>\n",
       "      <th>7</th>\n",
       "      <td>13</td>\n",
       "      <td>95783</td>\n",
       "      <td>0.631429</td>\n",
       "    </tr>\n",
       "    <tr>\n",
       "      <th>8</th>\n",
       "      <td>13</td>\n",
       "      <td>44126</td>\n",
       "      <td>0.628387</td>\n",
       "    </tr>\n",
       "    <tr>\n",
       "      <th>9</th>\n",
       "      <td>13</td>\n",
       "      <td>43552</td>\n",
       "      <td>0.614161</td>\n",
       "    </tr>\n",
       "  </tbody>\n",
       "</table>\n",
       "<p>140 rows × 3 columns</p>\n",
       "</div>"
      ],
      "text/plain": [
       "    user    item     score\n",
       "0      0  103474  1.488660\n",
       "1      0  103465  1.481825\n",
       "2      0   43048  1.449955\n",
       "3      0   33071  1.426067\n",
       "4      0   71938  1.398082\n",
       "..   ...     ...       ...\n",
       "5     13   94009  0.677304\n",
       "6     13   44158  0.661345\n",
       "7     13   95783  0.631429\n",
       "8     13   44126  0.628387\n",
       "9     13   43552  0.614161\n",
       "\n",
       "[140 rows x 3 columns]"
      ]
     },
     "execution_count": 20,
     "metadata": {},
     "output_type": "execute_result"
    }
   ],
   "source": [
    "inference_df"
   ]
  },
  {
   "cell_type": "code",
   "execution_count": null,
   "metadata": {},
   "outputs": [],
   "source": []
  }
 ],
 "metadata": {
  "interpreter": {
   "hash": "d4d1e4263499bec80672ea0156c357c1ee493ec2b1c70f0acce89fc37c4a6abe"
  },
  "kernelspec": {
   "display_name": "Python 3 (ipykernel)",
   "language": "python",
   "name": "python3"
  },
  "language_info": {
   "codemirror_mode": {
    "name": "ipython",
    "version": 3
   },
   "file_extension": ".py",
   "mimetype": "text/x-python",
   "name": "python",
   "nbconvert_exporter": "python",
   "pygments_lexer": "ipython3",
   "version": "3.8.5"
  }
 },
 "nbformat": 4,
 "nbformat_minor": 4
}
