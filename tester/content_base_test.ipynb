{
 "cells": [
  {
   "cell_type": "code",
   "execution_count": 2,
   "metadata": {},
   "outputs": [],
   "source": [
    "import numpy as np\n",
    "import pandas as pd\n",
    "import os\n",
    "\n",
    "from sklearn.feature_extraction.text import TfidfVectorizer\n",
    "from sklearn.metrics.pairwise import cosine_similarity\n",
    "from scipy import sparse\n",
    "from sklearn.preprocessing import LabelEncoder, MinMaxScaler\n",
    "\n",
    "from tqdm import tqdm\n",
    "\n",
    "import torch"
   ]
  },
  {
   "cell_type": "code",
   "execution_count": 3,
   "metadata": {},
   "outputs": [],
   "source": [
    "def similarity_cosine_by_index(indicies):\n",
    "    return cosine_similarity(X=synop_matrix[indicies], Y=synop_matrix)"
   ]
  },
  {
   "cell_type": "code",
   "execution_count": 4,
   "metadata": {},
   "outputs": [],
   "source": [
    "book = pd.read_csv('../data/ver2/Book.tsv', sep='\\t')\n",
    "ratings = pd.read_csv('../data/ver2/Rating.tsv', sep='\\t', low_memory=False)\n",
    "\n",
    "gr = ratings.groupby('user').agg({'item' : 'count'})\n",
    "val_user = list(gr[gr['item'] >= 3].index)\n",
    "ratings = ratings[ratings['user'].isin(val_user)]\n",
    "\n",
    "tfidf = TfidfVectorizer(analyzer='word', stop_words='english')\n",
    "synop_matrix = tfidf.fit_transform(book['synopsis'].values.astype('U'))\n",
    "synop_matrix = synop_matrix.astype('float32')\n",
    "\n",
    "chunk_size = 10000\n",
    "matrix_len = synop_matrix.shape[0]\n",
    "\n",
    "user_encoder = LabelEncoder()\n",
    "item_encoder = LabelEncoder()\n",
    "\n",
    "\n",
    "ratings['item'] = item_encoder.fit_transform(ratings['item'])\n",
    "ratings['user'] = user_encoder.fit_transform(ratings['user'])\n",
    "\n",
    "user_cnt = ratings.groupby('user').agg({'item' : 'count'})\n",
    "maximum_user = list(user_cnt[user_cnt['item'] < 10].index)\n",
    "\n",
    "ratnigs = ratings[ratings['user'].isin(maximum_user)]"
   ]
  },
  {
   "cell_type": "code",
   "execution_count": 5,
   "metadata": {},
   "outputs": [],
   "source": [
    "from sklearn.model_selection import train_test_split"
   ]
  },
  {
   "cell_type": "code",
   "execution_count": 6,
   "metadata": {},
   "outputs": [],
   "source": [
    "train_ratings, valid_ratings = train_test_split(ratings, stratify=ratings['user'], test_size=0.3)"
   ]
  },
  {
   "cell_type": "code",
   "execution_count": 7,
   "metadata": {},
   "outputs": [
    {
     "data": {
      "text/plain": [
       "1075591"
      ]
     },
     "execution_count": 7,
     "metadata": {},
     "output_type": "execute_result"
    }
   ],
   "source": [
    "train_ratings['user'].nunique()"
   ]
  },
  {
   "cell_type": "code",
   "execution_count": 8,
   "metadata": {},
   "outputs": [
    {
     "data": {
      "text/plain": [
       "1075591"
      ]
     },
     "execution_count": 8,
     "metadata": {},
     "output_type": "execute_result"
    }
   ],
   "source": [
    "valid_ratings['user'].nunique()"
   ]
  },
  {
   "cell_type": "code",
   "execution_count": 9,
   "metadata": {},
   "outputs": [
    {
     "data": {
      "text/plain": [
       "9779842     29904\n",
       "8728797     26502\n",
       "10860904    34611\n",
       "8026086     24508\n",
       "13094142    37183\n",
       "            ...  \n",
       "13416353    28969\n",
       "6706563     21038\n",
       "8373672     25243\n",
       "6885562     21315\n",
       "8140120     24637\n",
       "Name: item, Length: 5880137, dtype: int64"
      ]
     },
     "execution_count": 9,
     "metadata": {},
     "output_type": "execute_result"
    }
   ],
   "source": [
    "train_ratings['item']"
   ]
  },
  {
   "cell_type": "code",
   "execution_count": 10,
   "metadata": {},
   "outputs": [],
   "source": [
    "rows, cols, data = train_ratings['user'], train_ratings['item'], train_ratings['rating']\n",
    "n_users = ratings['user'].nunique()\n",
    "n_items = ratings['item'].nunique()\n",
    "\n",
    "rating_matrix = sparse.csr_matrix((data, (rows, cols)),\n",
    "                            dtype='float32',\n",
    "                            shape=(n_users, n_items))"
   ]
  },
  {
   "cell_type": "code",
   "execution_count": 11,
   "metadata": {},
   "outputs": [],
   "source": [
    "cosine_similarities = cosine_similarity(synop_matrix)"
   ]
  },
  {
   "cell_type": "code",
   "execution_count": 12,
   "metadata": {},
   "outputs": [
    {
     "name": "stderr",
     "output_type": "stream",
     "text": [
      "100%|██████████| 108/108 [08:25<00:00,  4.68s/it]\n"
     ]
    }
   ],
   "source": [
    "for st_idx in tqdm(range(0, n_users, 10000)):\n",
    "\n",
    "    next_idx = st_idx + 10000\n",
    "    end_idx = min(next_idx, n_users)\n",
    "    input_data = rating_matrix[st_idx:end_idx]\n",
    "    users = range(st_idx, end_idx)\n",
    "    \n",
    "    result = torch.tensor(input_data @ cosine_similarities)\n",
    "    result[torch.nonzero(torch.FloatTensor(input_data.todense()), as_tuple=True)] = -np.inf\n",
    "    \n",
    "    scores, items = torch.topk(result, k=10, dim=1)\n",
    "    \n",
    "\n",
    "    users = np.tile(users, (10,1)).T\n",
    "    user_list = np.concatenate([user for user in users])\n",
    "    score_list = torch.cat([score for score in scores])\n",
    "    item_list = torch.cat([item for item in items])\n",
    "\n",
    "    temp_df = pd.DataFrame()\n",
    "    temp_df['user'] = user_list\n",
    "    temp_df['item'] = item_list.cpu().numpy()\n",
    "    temp_df['score'] = score_list.cpu().numpy()\n",
    "\n",
    "    # temp_df['user'] = user_encoder.inverse_transform(temp_df['user'])\n",
    "    # temp_df['item'] = item_encoder.inverse_transform(temp_df['item'])\n",
    "\n",
    "    if st_idx == 0 : inference_df = temp_df\n",
    "    else : inference_df = pd.concat([inference_df, temp_df])\n",
    "\n",
    "inference_df = inference_df.sort_values(['user', 'score'], ascending=[True, False])"
   ]
  },
  {
   "cell_type": "code",
   "execution_count": 13,
   "metadata": {},
   "outputs": [
    {
     "data": {
      "text/html": [
       "<div>\n",
       "<style scoped>\n",
       "    .dataframe tbody tr th:only-of-type {\n",
       "        vertical-align: middle;\n",
       "    }\n",
       "\n",
       "    .dataframe tbody tr th {\n",
       "        vertical-align: top;\n",
       "    }\n",
       "\n",
       "    .dataframe thead th {\n",
       "        text-align: right;\n",
       "    }\n",
       "</style>\n",
       "<table border=\"1\" class=\"dataframe\">\n",
       "  <thead>\n",
       "    <tr style=\"text-align: right;\">\n",
       "      <th></th>\n",
       "      <th>user</th>\n",
       "      <th>item</th>\n",
       "      <th>score</th>\n",
       "    </tr>\n",
       "  </thead>\n",
       "  <tbody>\n",
       "    <tr>\n",
       "      <th>0</th>\n",
       "      <td>0</td>\n",
       "      <td>127</td>\n",
       "      <td>1.491501</td>\n",
       "    </tr>\n",
       "    <tr>\n",
       "      <th>1</th>\n",
       "      <td>0</td>\n",
       "      <td>173</td>\n",
       "      <td>1.269477</td>\n",
       "    </tr>\n",
       "    <tr>\n",
       "      <th>2</th>\n",
       "      <td>0</td>\n",
       "      <td>28645</td>\n",
       "      <td>1.152108</td>\n",
       "    </tr>\n",
       "    <tr>\n",
       "      <th>3</th>\n",
       "      <td>0</td>\n",
       "      <td>24905</td>\n",
       "      <td>1.147473</td>\n",
       "    </tr>\n",
       "    <tr>\n",
       "      <th>4</th>\n",
       "      <td>0</td>\n",
       "      <td>9105</td>\n",
       "      <td>1.103232</td>\n",
       "    </tr>\n",
       "    <tr>\n",
       "      <th>...</th>\n",
       "      <td>...</td>\n",
       "      <td>...</td>\n",
       "      <td>...</td>\n",
       "    </tr>\n",
       "    <tr>\n",
       "      <th>55905</th>\n",
       "      <td>1075590</td>\n",
       "      <td>19801</td>\n",
       "      <td>2.006795</td>\n",
       "    </tr>\n",
       "    <tr>\n",
       "      <th>55906</th>\n",
       "      <td>1075590</td>\n",
       "      <td>29232</td>\n",
       "      <td>1.961740</td>\n",
       "    </tr>\n",
       "    <tr>\n",
       "      <th>55907</th>\n",
       "      <td>1075590</td>\n",
       "      <td>18874</td>\n",
       "      <td>1.950201</td>\n",
       "    </tr>\n",
       "    <tr>\n",
       "      <th>55908</th>\n",
       "      <td>1075590</td>\n",
       "      <td>9192</td>\n",
       "      <td>1.919881</td>\n",
       "    </tr>\n",
       "    <tr>\n",
       "      <th>55909</th>\n",
       "      <td>1075590</td>\n",
       "      <td>21212</td>\n",
       "      <td>1.918427</td>\n",
       "    </tr>\n",
       "  </tbody>\n",
       "</table>\n",
       "<p>10755910 rows × 3 columns</p>\n",
       "</div>"
      ],
      "text/plain": [
       "          user   item     score\n",
       "0            0    127  1.491501\n",
       "1            0    173  1.269477\n",
       "2            0  28645  1.152108\n",
       "3            0  24905  1.147473\n",
       "4            0   9105  1.103232\n",
       "...        ...    ...       ...\n",
       "55905  1075590  19801  2.006795\n",
       "55906  1075590  29232  1.961740\n",
       "55907  1075590  18874  1.950201\n",
       "55908  1075590   9192  1.919881\n",
       "55909  1075590  21212  1.918427\n",
       "\n",
       "[10755910 rows x 3 columns]"
      ]
     },
     "execution_count": 13,
     "metadata": {},
     "output_type": "execute_result"
    }
   ],
   "source": [
    "inference_df"
   ]
  },
  {
   "cell_type": "code",
   "execution_count": 14,
   "metadata": {},
   "outputs": [
    {
     "data": {
      "text/html": [
       "<div>\n",
       "<style scoped>\n",
       "    .dataframe tbody tr th:only-of-type {\n",
       "        vertical-align: middle;\n",
       "    }\n",
       "\n",
       "    .dataframe tbody tr th {\n",
       "        vertical-align: top;\n",
       "    }\n",
       "\n",
       "    .dataframe thead th {\n",
       "        text-align: right;\n",
       "    }\n",
       "</style>\n",
       "<table border=\"1\" class=\"dataframe\">\n",
       "  <thead>\n",
       "    <tr style=\"text-align: right;\">\n",
       "      <th></th>\n",
       "      <th>item</th>\n",
       "      <th>user</th>\n",
       "      <th>rating</th>\n",
       "    </tr>\n",
       "  </thead>\n",
       "  <tbody>\n",
       "    <tr>\n",
       "      <th>7318736</th>\n",
       "      <td>22862</td>\n",
       "      <td>968642</td>\n",
       "      <td>5.0</td>\n",
       "    </tr>\n",
       "    <tr>\n",
       "      <th>6980524</th>\n",
       "      <td>21736</td>\n",
       "      <td>213883</td>\n",
       "      <td>4.0</td>\n",
       "    </tr>\n",
       "    <tr>\n",
       "      <th>10615061</th>\n",
       "      <td>33370</td>\n",
       "      <td>302990</td>\n",
       "      <td>4.0</td>\n",
       "    </tr>\n",
       "    <tr>\n",
       "      <th>13614496</th>\n",
       "      <td>14762</td>\n",
       "      <td>110343</td>\n",
       "      <td>5.0</td>\n",
       "    </tr>\n",
       "    <tr>\n",
       "      <th>13389858</th>\n",
       "      <td>43911</td>\n",
       "      <td>1060791</td>\n",
       "      <td>5.0</td>\n",
       "    </tr>\n",
       "    <tr>\n",
       "      <th>...</th>\n",
       "      <td>...</td>\n",
       "      <td>...</td>\n",
       "      <td>...</td>\n",
       "    </tr>\n",
       "    <tr>\n",
       "      <th>1005184</th>\n",
       "      <td>2628</td>\n",
       "      <td>34043</td>\n",
       "      <td>5.0</td>\n",
       "    </tr>\n",
       "    <tr>\n",
       "      <th>4603208</th>\n",
       "      <td>13006</td>\n",
       "      <td>441292</td>\n",
       "      <td>3.0</td>\n",
       "    </tr>\n",
       "    <tr>\n",
       "      <th>5654807</th>\n",
       "      <td>17087</td>\n",
       "      <td>820852</td>\n",
       "      <td>4.0</td>\n",
       "    </tr>\n",
       "    <tr>\n",
       "      <th>7246656</th>\n",
       "      <td>22607</td>\n",
       "      <td>374462</td>\n",
       "      <td>4.0</td>\n",
       "    </tr>\n",
       "    <tr>\n",
       "      <th>10043893</th>\n",
       "      <td>30690</td>\n",
       "      <td>338075</td>\n",
       "      <td>1.0</td>\n",
       "    </tr>\n",
       "  </tbody>\n",
       "</table>\n",
       "<p>2520060 rows × 3 columns</p>\n",
       "</div>"
      ],
      "text/plain": [
       "           item     user  rating\n",
       "7318736   22862   968642     5.0\n",
       "6980524   21736   213883     4.0\n",
       "10615061  33370   302990     4.0\n",
       "13614496  14762   110343     5.0\n",
       "13389858  43911  1060791     5.0\n",
       "...         ...      ...     ...\n",
       "1005184    2628    34043     5.0\n",
       "4603208   13006   441292     3.0\n",
       "5654807   17087   820852     4.0\n",
       "7246656   22607   374462     4.0\n",
       "10043893  30690   338075     1.0\n",
       "\n",
       "[2520060 rows x 3 columns]"
      ]
     },
     "execution_count": 14,
     "metadata": {},
     "output_type": "execute_result"
    }
   ],
   "source": [
    "valid_ratings"
   ]
  },
  {
   "cell_type": "code",
   "execution_count": 15,
   "metadata": {},
   "outputs": [],
   "source": [
    "from sklearn.metrics import ndcg_score, recall_score"
   ]
  },
  {
   "cell_type": "code",
   "execution_count": 16,
   "metadata": {},
   "outputs": [
    {
     "data": {
      "text/html": [
       "<div>\n",
       "<style scoped>\n",
       "    .dataframe tbody tr th:only-of-type {\n",
       "        vertical-align: middle;\n",
       "    }\n",
       "\n",
       "    .dataframe tbody tr th {\n",
       "        vertical-align: top;\n",
       "    }\n",
       "\n",
       "    .dataframe thead th {\n",
       "        text-align: right;\n",
       "    }\n",
       "</style>\n",
       "<table border=\"1\" class=\"dataframe\">\n",
       "  <thead>\n",
       "    <tr style=\"text-align: right;\">\n",
       "      <th></th>\n",
       "      <th>user</th>\n",
       "      <th>item</th>\n",
       "      <th>score</th>\n",
       "    </tr>\n",
       "  </thead>\n",
       "  <tbody>\n",
       "    <tr>\n",
       "      <th>10</th>\n",
       "      <td>1</td>\n",
       "      <td>36019</td>\n",
       "      <td>2.312494</td>\n",
       "    </tr>\n",
       "    <tr>\n",
       "      <th>11</th>\n",
       "      <td>1</td>\n",
       "      <td>24017</td>\n",
       "      <td>2.055125</td>\n",
       "    </tr>\n",
       "    <tr>\n",
       "      <th>12</th>\n",
       "      <td>1</td>\n",
       "      <td>23907</td>\n",
       "      <td>1.691167</td>\n",
       "    </tr>\n",
       "    <tr>\n",
       "      <th>13</th>\n",
       "      <td>1</td>\n",
       "      <td>10259</td>\n",
       "      <td>1.586950</td>\n",
       "    </tr>\n",
       "    <tr>\n",
       "      <th>14</th>\n",
       "      <td>1</td>\n",
       "      <td>6187</td>\n",
       "      <td>1.488469</td>\n",
       "    </tr>\n",
       "    <tr>\n",
       "      <th>15</th>\n",
       "      <td>1</td>\n",
       "      <td>22747</td>\n",
       "      <td>1.406347</td>\n",
       "    </tr>\n",
       "    <tr>\n",
       "      <th>16</th>\n",
       "      <td>1</td>\n",
       "      <td>26843</td>\n",
       "      <td>1.402577</td>\n",
       "    </tr>\n",
       "    <tr>\n",
       "      <th>17</th>\n",
       "      <td>1</td>\n",
       "      <td>22688</td>\n",
       "      <td>1.390862</td>\n",
       "    </tr>\n",
       "    <tr>\n",
       "      <th>18</th>\n",
       "      <td>1</td>\n",
       "      <td>28413</td>\n",
       "      <td>1.361060</td>\n",
       "    </tr>\n",
       "    <tr>\n",
       "      <th>19</th>\n",
       "      <td>1</td>\n",
       "      <td>22464</td>\n",
       "      <td>1.327294</td>\n",
       "    </tr>\n",
       "  </tbody>\n",
       "</table>\n",
       "</div>"
      ],
      "text/plain": [
       "    user   item     score\n",
       "10     1  36019  2.312494\n",
       "11     1  24017  2.055125\n",
       "12     1  23907  1.691167\n",
       "13     1  10259  1.586950\n",
       "14     1   6187  1.488469\n",
       "15     1  22747  1.406347\n",
       "16     1  26843  1.402577\n",
       "17     1  22688  1.390862\n",
       "18     1  28413  1.361060\n",
       "19     1  22464  1.327294"
      ]
     },
     "execution_count": 16,
     "metadata": {},
     "output_type": "execute_result"
    }
   ],
   "source": [
    "inference_df[inference_df['user'] == 1]"
   ]
  },
  {
   "cell_type": "code",
   "execution_count": 17,
   "metadata": {},
   "outputs": [],
   "source": [
    "user_list = list(ratings['user'])"
   ]
  },
  {
   "cell_type": "code",
   "execution_count": 18,
   "metadata": {},
   "outputs": [
    {
     "data": {
      "text/html": [
       "<div>\n",
       "<style scoped>\n",
       "    .dataframe tbody tr th:only-of-type {\n",
       "        vertical-align: middle;\n",
       "    }\n",
       "\n",
       "    .dataframe tbody tr th {\n",
       "        vertical-align: top;\n",
       "    }\n",
       "\n",
       "    .dataframe thead th {\n",
       "        text-align: right;\n",
       "    }\n",
       "</style>\n",
       "<table border=\"1\" class=\"dataframe\">\n",
       "  <thead>\n",
       "    <tr style=\"text-align: right;\">\n",
       "      <th></th>\n",
       "      <th>item</th>\n",
       "      <th>user</th>\n",
       "      <th>rating</th>\n",
       "    </tr>\n",
       "  </thead>\n",
       "  <tbody>\n",
       "    <tr>\n",
       "      <th>7318736</th>\n",
       "      <td>22862</td>\n",
       "      <td>968642</td>\n",
       "      <td>5.0</td>\n",
       "    </tr>\n",
       "    <tr>\n",
       "      <th>6980524</th>\n",
       "      <td>21736</td>\n",
       "      <td>213883</td>\n",
       "      <td>4.0</td>\n",
       "    </tr>\n",
       "    <tr>\n",
       "      <th>10615061</th>\n",
       "      <td>33370</td>\n",
       "      <td>302990</td>\n",
       "      <td>4.0</td>\n",
       "    </tr>\n",
       "    <tr>\n",
       "      <th>13614496</th>\n",
       "      <td>14762</td>\n",
       "      <td>110343</td>\n",
       "      <td>5.0</td>\n",
       "    </tr>\n",
       "    <tr>\n",
       "      <th>13389858</th>\n",
       "      <td>43911</td>\n",
       "      <td>1060791</td>\n",
       "      <td>5.0</td>\n",
       "    </tr>\n",
       "    <tr>\n",
       "      <th>...</th>\n",
       "      <td>...</td>\n",
       "      <td>...</td>\n",
       "      <td>...</td>\n",
       "    </tr>\n",
       "    <tr>\n",
       "      <th>1005184</th>\n",
       "      <td>2628</td>\n",
       "      <td>34043</td>\n",
       "      <td>5.0</td>\n",
       "    </tr>\n",
       "    <tr>\n",
       "      <th>4603208</th>\n",
       "      <td>13006</td>\n",
       "      <td>441292</td>\n",
       "      <td>3.0</td>\n",
       "    </tr>\n",
       "    <tr>\n",
       "      <th>5654807</th>\n",
       "      <td>17087</td>\n",
       "      <td>820852</td>\n",
       "      <td>4.0</td>\n",
       "    </tr>\n",
       "    <tr>\n",
       "      <th>7246656</th>\n",
       "      <td>22607</td>\n",
       "      <td>374462</td>\n",
       "      <td>4.0</td>\n",
       "    </tr>\n",
       "    <tr>\n",
       "      <th>10043893</th>\n",
       "      <td>30690</td>\n",
       "      <td>338075</td>\n",
       "      <td>1.0</td>\n",
       "    </tr>\n",
       "  </tbody>\n",
       "</table>\n",
       "<p>2520060 rows × 3 columns</p>\n",
       "</div>"
      ],
      "text/plain": [
       "           item     user  rating\n",
       "7318736   22862   968642     5.0\n",
       "6980524   21736   213883     4.0\n",
       "10615061  33370   302990     4.0\n",
       "13614496  14762   110343     5.0\n",
       "13389858  43911  1060791     5.0\n",
       "...         ...      ...     ...\n",
       "1005184    2628    34043     5.0\n",
       "4603208   13006   441292     3.0\n",
       "5654807   17087   820852     4.0\n",
       "7246656   22607   374462     4.0\n",
       "10043893  30690   338075     1.0\n",
       "\n",
       "[2520060 rows x 3 columns]"
      ]
     },
     "execution_count": 18,
     "metadata": {},
     "output_type": "execute_result"
    }
   ],
   "source": [
    "valid_ratings"
   ]
  },
  {
   "cell_type": "code",
   "execution_count": 24,
   "metadata": {},
   "outputs": [
    {
     "name": "stderr",
     "output_type": "stream",
     "text": [
      " 12%|█▏        | 1000000/8400197 [5:25:35<40:09:24, 51.19it/s]\n"
     ]
    }
   ],
   "source": [
    "score = 0\n",
    "cnt = 0\n",
    "for i in tqdm(range(len(user_list))):\n",
    "    try :\n",
    "        user = user_list[i]\n",
    "        y_true = list(valid_ratings[valid_ratings['user'] == user]['item'])\n",
    "        y_pred = list(inference_df[inference_df['user'] == user]['item'])[:len(y_true)]\n",
    "        score += recall_score(y_true, y_pred, average='micro')\n",
    "        cnt += 1\n",
    "    except:\n",
    "        continue\n",
    "\n",
    "    if i == 1000000 :\n",
    "        break"
   ]
  },
  {
   "cell_type": "code",
   "execution_count": 23,
   "metadata": {},
   "outputs": [
    {
     "data": {
      "text/plain": [
       "0.00015268650361451922"
      ]
     },
     "execution_count": 23,
     "metadata": {},
     "output_type": "execute_result"
    }
   ],
   "source": [
    "score / cnt"
   ]
  },
  {
   "cell_type": "code",
   "execution_count": 21,
   "metadata": {},
   "outputs": [
    {
     "data": {
      "text/plain": [
       "[24777]"
      ]
     },
     "execution_count": 21,
     "metadata": {},
     "output_type": "execute_result"
    }
   ],
   "source": [
    "y_true"
   ]
  },
  {
   "cell_type": "code",
   "execution_count": 25,
   "metadata": {},
   "outputs": [
    {
     "data": {
      "text/plain": [
       "[26638, 14756]"
      ]
     },
     "execution_count": 25,
     "metadata": {},
     "output_type": "execute_result"
    }
   ],
   "source": [
    "y_pred"
   ]
  },
  {
   "cell_type": "code",
   "execution_count": null,
   "metadata": {},
   "outputs": [],
   "source": []
  }
 ],
 "metadata": {
  "interpreter": {
   "hash": "d4d1e4263499bec80672ea0156c357c1ee493ec2b1c70f0acce89fc37c4a6abe"
  },
  "kernelspec": {
   "display_name": "Python 3 (ipykernel)",
   "language": "python",
   "name": "python3"
  },
  "language_info": {
   "codemirror_mode": {
    "name": "ipython",
    "version": 3
   },
   "file_extension": ".py",
   "mimetype": "text/x-python",
   "name": "python",
   "nbconvert_exporter": "python",
   "pygments_lexer": "ipython3",
   "version": "3.8.5"
  }
 },
 "nbformat": 4,
 "nbformat_minor": 4
}
