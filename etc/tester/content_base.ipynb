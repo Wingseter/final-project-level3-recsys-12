{
 "cells": [
  {
   "cell_type": "code",
   "execution_count": 2,
   "metadata": {},
   "outputs": [],
   "source": [
    "import json\n",
    "import pandas as pd\n",
    "import gc\n",
    "import numpy as np\n",
    "from tqdm import tqdm\n",
    "import warnings\n",
    "warnings.filterwarnings('ignore')"
   ]
  },
  {
   "cell_type": "code",
   "execution_count": 3,
   "metadata": {},
   "outputs": [],
   "source": [
    "def load_meta_data():\n",
    "    gc.collect()\n",
    "    with open(f'../data/amazon_meta.json', 'r') as json_file :\n",
    "        for line in json_file :\n",
    "            data = json.loads(line)\n",
    "            yield data['asin'], data['category'], data['description'], data['title'], data['brand'], data['feature']"
   ]
  },
  {
   "cell_type": "code",
   "execution_count": 4,
   "metadata": {},
   "outputs": [
    {
     "name": "stderr",
     "output_type": "stream",
     "text": [
      "2934949it [01:11, 40942.98it/s]\n"
     ]
    }
   ],
   "source": [
    "arr = []\n",
    "for data in tqdm(load_meta_data()) :\n",
    "    arr.append(data)"
   ]
  },
  {
   "cell_type": "code",
   "execution_count": 5,
   "metadata": {},
   "outputs": [],
   "source": [
    "movies_df = pd.DataFrame(arr, columns=['asin', 'category', 'description', 'title', 'brand', 'feature'])"
   ]
  },
  {
   "cell_type": "code",
   "execution_count": 6,
   "metadata": {},
   "outputs": [],
   "source": [
    "movies_df.drop((movies_df[movies_df['asin'].str.match('B')]).index, inplace=True)"
   ]
  },
  {
   "cell_type": "code",
   "execution_count": 7,
   "metadata": {},
   "outputs": [
    {
     "name": "stdout",
     "output_type": "stream",
     "text": [
      "True\n"
     ]
    },
    {
     "data": {
      "text/html": [
       "<div>\n",
       "<style scoped>\n",
       "    .dataframe tbody tr th:only-of-type {\n",
       "        vertical-align: middle;\n",
       "    }\n",
       "\n",
       "    .dataframe tbody tr th {\n",
       "        vertical-align: top;\n",
       "    }\n",
       "\n",
       "    .dataframe thead th {\n",
       "        text-align: right;\n",
       "    }\n",
       "</style>\n",
       "<table border=\"1\" class=\"dataframe\">\n",
       "  <thead>\n",
       "    <tr style=\"text-align: right;\">\n",
       "      <th></th>\n",
       "      <th>asin</th>\n",
       "      <th>category</th>\n",
       "      <th>description</th>\n",
       "      <th>title</th>\n",
       "      <th>brand</th>\n",
       "      <th>feature</th>\n",
       "      <th>Books</th>\n",
       "      <th>New, Used &amp; Rental Textbooks</th>\n",
       "      <th>Medicine &amp; Health Sciences</th>\n",
       "      <th>Arts &amp; Photography</th>\n",
       "      <th>...</th>\n",
       "      <th>Beijing</th>\n",
       "      <th>Barcelona</th>\n",
       "      <th>Turkey</th>\n",
       "      <th>Istanbul</th>\n",
       "      <th>Portugal</th>\n",
       "      <th>Lisbon</th>\n",
       "      <th>Social Services &amp; Welfare</th>\n",
       "      <th>Children's &amp; Teens</th>\n",
       "      <th>Customs &amp;amp; Traditions</th>\n",
       "      <th>Ecclesiology</th>\n",
       "    </tr>\n",
       "  </thead>\n",
       "  <tbody>\n",
       "    <tr>\n",
       "      <th>0</th>\n",
       "      <td>0000092878</td>\n",
       "      <td>[]</td>\n",
       "      <td>[It is a biology book with God&amp;apos;s perspect...</td>\n",
       "      <td>Biology Gods Living Creation Third Edition 10 ...</td>\n",
       "      <td>Keith Graham</td>\n",
       "      <td>[]</td>\n",
       "      <td>NaN</td>\n",
       "      <td>NaN</td>\n",
       "      <td>NaN</td>\n",
       "      <td>NaN</td>\n",
       "      <td>...</td>\n",
       "      <td>NaN</td>\n",
       "      <td>NaN</td>\n",
       "      <td>NaN</td>\n",
       "      <td>NaN</td>\n",
       "      <td>NaN</td>\n",
       "      <td>NaN</td>\n",
       "      <td>NaN</td>\n",
       "      <td>NaN</td>\n",
       "      <td>NaN</td>\n",
       "      <td>NaN</td>\n",
       "    </tr>\n",
       "    <tr>\n",
       "      <th>1</th>\n",
       "      <td>000047715X</td>\n",
       "      <td>[Books, New, Used &amp; Rental Textbooks, Medicine...</td>\n",
       "      <td>[]</td>\n",
       "      <td>Mksap 16 Audio Companion: Medical Knowledge Se...</td>\n",
       "      <td>Acp</td>\n",
       "      <td>[]</td>\n",
       "      <td>1.0</td>\n",
       "      <td>1.0</td>\n",
       "      <td>1.0</td>\n",
       "      <td>NaN</td>\n",
       "      <td>...</td>\n",
       "      <td>NaN</td>\n",
       "      <td>NaN</td>\n",
       "      <td>NaN</td>\n",
       "      <td>NaN</td>\n",
       "      <td>NaN</td>\n",
       "      <td>NaN</td>\n",
       "      <td>NaN</td>\n",
       "      <td>NaN</td>\n",
       "      <td>NaN</td>\n",
       "      <td>NaN</td>\n",
       "    </tr>\n",
       "    <tr>\n",
       "      <th>2</th>\n",
       "      <td>0000004545</td>\n",
       "      <td>[Books, Arts &amp; Photography, Music]</td>\n",
       "      <td>[Discography of American Punk, Hardcore, and P...</td>\n",
       "      <td>Flex! Discography of North American Punk, Hard...</td>\n",
       "      <td>Burkhard Jarisch</td>\n",
       "      <td>[]</td>\n",
       "      <td>1.0</td>\n",
       "      <td>NaN</td>\n",
       "      <td>NaN</td>\n",
       "      <td>1.0</td>\n",
       "      <td>...</td>\n",
       "      <td>NaN</td>\n",
       "      <td>NaN</td>\n",
       "      <td>NaN</td>\n",
       "      <td>NaN</td>\n",
       "      <td>NaN</td>\n",
       "      <td>NaN</td>\n",
       "      <td>NaN</td>\n",
       "      <td>NaN</td>\n",
       "      <td>NaN</td>\n",
       "      <td>NaN</td>\n",
       "    </tr>\n",
       "  </tbody>\n",
       "</table>\n",
       "<p>3 rows × 1079 columns</p>\n",
       "</div>"
      ],
      "text/plain": [
       "         asin                                           category  \\\n",
       "0  0000092878                                                 []   \n",
       "1  000047715X  [Books, New, Used & Rental Textbooks, Medicine...   \n",
       "2  0000004545                 [Books, Arts & Photography, Music]   \n",
       "\n",
       "                                         description  \\\n",
       "0  [It is a biology book with God&apos;s perspect...   \n",
       "1                                                 []   \n",
       "2  [Discography of American Punk, Hardcore, and P...   \n",
       "\n",
       "                                               title             brand  \\\n",
       "0  Biology Gods Living Creation Third Edition 10 ...      Keith Graham   \n",
       "1  Mksap 16 Audio Companion: Medical Knowledge Se...               Acp   \n",
       "2  Flex! Discography of North American Punk, Hard...  Burkhard Jarisch   \n",
       "\n",
       "  feature  Books  New, Used & Rental Textbooks  Medicine & Health Sciences  \\\n",
       "0      []    NaN                           NaN                         NaN   \n",
       "1      []    1.0                           1.0                         1.0   \n",
       "2      []    1.0                           NaN                         NaN   \n",
       "\n",
       "   Arts & Photography  ...  Beijing  Barcelona  Turkey  Istanbul  Portugal  \\\n",
       "0                 NaN  ...      NaN        NaN     NaN       NaN       NaN   \n",
       "1                 NaN  ...      NaN        NaN     NaN       NaN       NaN   \n",
       "2                 1.0  ...      NaN        NaN     NaN       NaN       NaN   \n",
       "\n",
       "   Lisbon  Social Services & Welfare  Children's & Teens  \\\n",
       "0     NaN                        NaN                 NaN   \n",
       "1     NaN                        NaN                 NaN   \n",
       "2     NaN                        NaN                 NaN   \n",
       "\n",
       "   Customs &amp; Traditions  Ecclesiology  \n",
       "0                       NaN           NaN  \n",
       "1                       NaN           NaN  \n",
       "2                       NaN           NaN  \n",
       "\n",
       "[3 rows x 1079 columns]"
      ]
     },
     "execution_count": 7,
     "metadata": {},
     "output_type": "execute_result"
    }
   ],
   "source": [
    "# First let's make a copy of the movies_df\n",
    "movies_with_genres = movies_df.copy(deep=True)\n",
    "\n",
    "# Let's iterate through movies_df, then append the movie genres as columns of 1s or 0s.\n",
    "# 1 if that column contains movies in the genre at the present index and 0 if not.\n",
    "\n",
    "x = []\n",
    "for index, row in movies_df.iterrows():\n",
    "    x.append(index)\n",
    "    for genre in row['category']:\n",
    "        movies_with_genres.at[index, genre] = 1\n",
    "\n",
    "# Confirm that every row has been iterated and acted upon\n",
    "print(len(x) == len(movies_df))\n",
    "\n",
    "movies_with_genres.head(3)\n"
   ]
  },
  {
   "cell_type": "code",
   "execution_count": 8,
   "metadata": {},
   "outputs": [],
   "source": [
    "def load_rating_data():\n",
    "    gc.collect()\n",
    "    with open(f'../data/amazon_rating.json', 'r') as json_file :\n",
    "        for line in json_file :\n",
    "            data = json.loads(line)\n",
    "            yield data['reviewerID'], data['asin'], data['overall']"
   ]
  },
  {
   "cell_type": "code",
   "execution_count": 9,
   "metadata": {},
   "outputs": [
    {
     "name": "stderr",
     "output_type": "stream",
     "text": [
      "51311621it [09:15, 92352.95it/s] \n"
     ]
    }
   ],
   "source": [
    "arr = []\n",
    "for data in tqdm(load_rating_data()):\n",
    "    arr.append(data)"
   ]
  },
  {
   "cell_type": "code",
   "execution_count": 10,
   "metadata": {},
   "outputs": [],
   "source": [
    "ratings = pd.DataFrame(arr, columns=['user', 'item', 'rating'])"
   ]
  },
  {
   "cell_type": "code",
   "execution_count": 11,
   "metadata": {},
   "outputs": [
    {
     "data": {
      "text/html": [
       "<div>\n",
       "<style scoped>\n",
       "    .dataframe tbody tr th:only-of-type {\n",
       "        vertical-align: middle;\n",
       "    }\n",
       "\n",
       "    .dataframe tbody tr th {\n",
       "        vertical-align: top;\n",
       "    }\n",
       "\n",
       "    .dataframe thead th {\n",
       "        text-align: right;\n",
       "    }\n",
       "</style>\n",
       "<table border=\"1\" class=\"dataframe\">\n",
       "  <thead>\n",
       "    <tr style=\"text-align: right;\">\n",
       "      <th></th>\n",
       "      <th>user</th>\n",
       "      <th>item</th>\n",
       "      <th>rating</th>\n",
       "    </tr>\n",
       "  </thead>\n",
       "  <tbody>\n",
       "    <tr>\n",
       "      <th>0</th>\n",
       "      <td>A1C6M8LCIX4M6M</td>\n",
       "      <td>0001713353</td>\n",
       "      <td>5.0</td>\n",
       "    </tr>\n",
       "    <tr>\n",
       "      <th>1</th>\n",
       "      <td>A1REUF3A1YCPHM</td>\n",
       "      <td>0001713353</td>\n",
       "      <td>5.0</td>\n",
       "    </tr>\n",
       "    <tr>\n",
       "      <th>2</th>\n",
       "      <td>A1YRBRK2XM5D5</td>\n",
       "      <td>0001713353</td>\n",
       "      <td>5.0</td>\n",
       "    </tr>\n",
       "    <tr>\n",
       "      <th>3</th>\n",
       "      <td>A1V8ZR5P78P4ZU</td>\n",
       "      <td>0001713353</td>\n",
       "      <td>5.0</td>\n",
       "    </tr>\n",
       "    <tr>\n",
       "      <th>4</th>\n",
       "      <td>A2ZB06582NXCIV</td>\n",
       "      <td>0001713353</td>\n",
       "      <td>5.0</td>\n",
       "    </tr>\n",
       "    <tr>\n",
       "      <th>...</th>\n",
       "      <td>...</td>\n",
       "      <td>...</td>\n",
       "      <td>...</td>\n",
       "    </tr>\n",
       "    <tr>\n",
       "      <th>51311616</th>\n",
       "      <td>A3P8PUZFHWFK1E</td>\n",
       "      <td>B01HJDS76Y</td>\n",
       "      <td>4.0</td>\n",
       "    </tr>\n",
       "    <tr>\n",
       "      <th>51311617</th>\n",
       "      <td>A26Q9T9G9MTX9S</td>\n",
       "      <td>B01HJDS76Y</td>\n",
       "      <td>1.0</td>\n",
       "    </tr>\n",
       "    <tr>\n",
       "      <th>51311618</th>\n",
       "      <td>AB9M1MQPBAS2J</td>\n",
       "      <td>B01HJEB422</td>\n",
       "      <td>5.0</td>\n",
       "    </tr>\n",
       "    <tr>\n",
       "      <th>51311619</th>\n",
       "      <td>A2TO93KMH3DJIK</td>\n",
       "      <td>B01HJEB422</td>\n",
       "      <td>5.0</td>\n",
       "    </tr>\n",
       "    <tr>\n",
       "      <th>51311620</th>\n",
       "      <td>A7J9KA8SAL0MA</td>\n",
       "      <td>B01HJFHYMA</td>\n",
       "      <td>5.0</td>\n",
       "    </tr>\n",
       "  </tbody>\n",
       "</table>\n",
       "<p>51311621 rows × 3 columns</p>\n",
       "</div>"
      ],
      "text/plain": [
       "                    user        item  rating\n",
       "0         A1C6M8LCIX4M6M  0001713353     5.0\n",
       "1         A1REUF3A1YCPHM  0001713353     5.0\n",
       "2          A1YRBRK2XM5D5  0001713353     5.0\n",
       "3         A1V8ZR5P78P4ZU  0001713353     5.0\n",
       "4         A2ZB06582NXCIV  0001713353     5.0\n",
       "...                  ...         ...     ...\n",
       "51311616  A3P8PUZFHWFK1E  B01HJDS76Y     4.0\n",
       "51311617  A26Q9T9G9MTX9S  B01HJDS76Y     1.0\n",
       "51311618   AB9M1MQPBAS2J  B01HJEB422     5.0\n",
       "51311619  A2TO93KMH3DJIK  B01HJEB422     5.0\n",
       "51311620   A7J9KA8SAL0MA  B01HJFHYMA     5.0\n",
       "\n",
       "[51311621 rows x 3 columns]"
      ]
     },
     "execution_count": 11,
     "metadata": {},
     "output_type": "execute_result"
    }
   ],
   "source": [
    "ratings"
   ]
  },
  {
   "cell_type": "code",
   "execution_count": 11,
   "metadata": {},
   "outputs": [],
   "source": [
    "ratings.drop((ratings[ratings['item'].str.match('B')]).index, inplace=True)"
   ]
  },
  {
   "cell_type": "code",
   "execution_count": 14,
   "metadata": {},
   "outputs": [],
   "source": [
    "user_rating = ratings[ratings['user'] == 'A1REUF3A1YCPHM']"
   ]
  },
  {
   "cell_type": "code",
   "execution_count": 15,
   "metadata": {},
   "outputs": [
    {
     "data": {
      "text/plain": [
       "1           0001713353\n",
       "7701341     0330293133\n",
       "8201568     0345522478\n",
       "8342065     034554854X\n",
       "8957911     0375432329\n",
       "9307764     0385338139\n",
       "9315425     0385338163\n",
       "11533097    0451225546\n",
       "13275281    0590417010\n",
       "13466899    061350125X\n",
       "13719812    0615752314\n",
       "14032637    0671319418\n",
       "14388311    0692268693\n",
       "16244447    0765301482\n",
       "19337049    0979573874\n",
       "23285203    1441706321\n",
       "24366425    1461084741\n",
       "25902161    1479165077\n",
       "26254703    1481952439\n",
       "27014966    1492974900\n",
       "32538560    1612185592\n",
       "34037960    1925342891\n",
       "34882727    1941987834\n",
       "37045389    B0070Z65FC\n",
       "43145388    0979573831\n",
       "43202646    0982202997\n",
       "43226885    0982750587\n",
       "43324279    0985147105\n",
       "43411433    0988904942\n",
       "43609711    099827920X\n",
       "44276422    143570942X\n",
       "44375627    1442123745\n",
       "44488709    1451638027\n",
       "44630234    1461189276\n",
       "44857473    1478103590\n",
       "44873887    1478353287\n",
       "45107264    1492106062\n",
       "45154970    1493534378\n",
       "45496045    1511535881\n",
       "45590466    1517221951\n",
       "45951610    1546768351\n",
       "46773078    1595070699\n",
       "46775619    1595071407\n",
       "46776298    1595070613\n",
       "46888566    1599928485\n",
       "48040210    1905202725\n",
       "48453991    1940716934\n",
       "48462937    1941058132\n",
       "48873366    9491730037\n",
       "50380781    1613099207\n",
       "Name: item, dtype: object"
      ]
     },
     "execution_count": 15,
     "metadata": {},
     "output_type": "execute_result"
    }
   ],
   "source": [
    "user_rating['item']"
   ]
  },
  {
   "cell_type": "code",
   "execution_count": 16,
   "metadata": {},
   "outputs": [],
   "source": [
    "user_genre_df = pd.DataFrame(columns=movies_with_genres.columns)"
   ]
  },
  {
   "cell_type": "code",
   "execution_count": 17,
   "metadata": {},
   "outputs": [],
   "source": [
    "for i in range(len(movies_with_genres)):\n",
    "    if movies_with_genres.loc[i,'asin'] in list(user_rating['item']):\n",
    "        user_genre_df = user_genre_df.append(movies_with_genres.iloc[i,:])"
   ]
  },
  {
   "cell_type": "code",
   "execution_count": 18,
   "metadata": {},
   "outputs": [],
   "source": [
    "user_genre_df.reset_index(drop=True, inplace=True)"
   ]
  },
  {
   "cell_type": "code",
   "execution_count": 19,
   "metadata": {},
   "outputs": [],
   "source": [
    "user_genre_df.drop(['asin', 'category', 'description', 'title', 'brand', 'feature', 'Books'], axis=1, inplace=True)"
   ]
  },
  {
   "cell_type": "code",
   "execution_count": 20,
   "metadata": {},
   "outputs": [],
   "source": [
    "user_genre_df=user_genre_df.fillna(0.0)"
   ]
  },
  {
   "cell_type": "code",
   "execution_count": 21,
   "metadata": {},
   "outputs": [
    {
     "name": "stdout",
     "output_type": "stream",
     "text": [
      "(50, 3)\n",
      "(1072, 49)\n"
     ]
    }
   ],
   "source": [
    "print(user_rating.shape)\n",
    "print(user_genre_df.T.shape)"
   ]
  },
  {
   "cell_type": "code",
   "execution_count": 26,
   "metadata": {},
   "outputs": [],
   "source": [
    "user_rating.rating.reset_index(drop=True, inplace=True)"
   ]
  },
  {
   "cell_type": "code",
   "execution_count": 27,
   "metadata": {},
   "outputs": [
    {
     "ename": "ValueError",
     "evalue": "matrices are not aligned",
     "output_type": "error",
     "traceback": [
      "\u001b[0;31m---------------------------------------------------------------------------\u001b[0m",
      "\u001b[0;31mValueError\u001b[0m                                Traceback (most recent call last)",
      "\u001b[1;32m/opt/ml/final_project/tester/content_base.ipynb Cell 21'\u001b[0m in \u001b[0;36m<cell line: 1>\u001b[0;34m()\u001b[0m\n\u001b[0;32m----> <a href='vscode-notebook-cell://ssh-remote%2B118.67.128.150/opt/ml/final_project/tester/content_base.ipynb#ch0000036vscode-remote?line=0'>1</a>\u001b[0m user_profile \u001b[39m=\u001b[39m user_genre_df\u001b[39m.\u001b[39;49mT\u001b[39m.\u001b[39;49mdot(user_rating\u001b[39m.\u001b[39;49mrating)\n",
      "File \u001b[0;32m/opt/conda/lib/python3.8/site-packages/pandas/core/frame.py:1507\u001b[0m, in \u001b[0;36mDataFrame.dot\u001b[0;34m(self, other)\u001b[0m\n\u001b[1;32m   <a href='file:///opt/conda/lib/python3.8/site-packages/pandas/core/frame.py?line=1504'>1505</a>\u001b[0m common \u001b[39m=\u001b[39m \u001b[39mself\u001b[39m\u001b[39m.\u001b[39mcolumns\u001b[39m.\u001b[39munion(other\u001b[39m.\u001b[39mindex)\n\u001b[1;32m   <a href='file:///opt/conda/lib/python3.8/site-packages/pandas/core/frame.py?line=1505'>1506</a>\u001b[0m \u001b[39mif\u001b[39;00m \u001b[39mlen\u001b[39m(common) \u001b[39m>\u001b[39m \u001b[39mlen\u001b[39m(\u001b[39mself\u001b[39m\u001b[39m.\u001b[39mcolumns) \u001b[39mor\u001b[39;00m \u001b[39mlen\u001b[39m(common) \u001b[39m>\u001b[39m \u001b[39mlen\u001b[39m(other\u001b[39m.\u001b[39mindex):\n\u001b[0;32m-> <a href='file:///opt/conda/lib/python3.8/site-packages/pandas/core/frame.py?line=1506'>1507</a>\u001b[0m     \u001b[39mraise\u001b[39;00m \u001b[39mValueError\u001b[39;00m(\u001b[39m\"\u001b[39m\u001b[39mmatrices are not aligned\u001b[39m\u001b[39m\"\u001b[39m)\n\u001b[1;32m   <a href='file:///opt/conda/lib/python3.8/site-packages/pandas/core/frame.py?line=1508'>1509</a>\u001b[0m left \u001b[39m=\u001b[39m \u001b[39mself\u001b[39m\u001b[39m.\u001b[39mreindex(columns\u001b[39m=\u001b[39mcommon, copy\u001b[39m=\u001b[39m\u001b[39mFalse\u001b[39;00m)\n\u001b[1;32m   <a href='file:///opt/conda/lib/python3.8/site-packages/pandas/core/frame.py?line=1509'>1510</a>\u001b[0m right \u001b[39m=\u001b[39m other\u001b[39m.\u001b[39mreindex(index\u001b[39m=\u001b[39mcommon, copy\u001b[39m=\u001b[39m\u001b[39mFalse\u001b[39;00m)\n",
      "\u001b[0;31mValueError\u001b[0m: matrices are not aligned"
     ]
    }
   ],
   "source": [
    "user_profile = user_genre_df.T.dot(user_rating.rating)"
   ]
  },
  {
   "cell_type": "code",
   "execution_count": 24,
   "metadata": {},
   "outputs": [
    {
     "ename": "NameError",
     "evalue": "name 'user_profile' is not defined",
     "output_type": "error",
     "traceback": [
      "\u001b[0;31m---------------------------------------------------------------------------\u001b[0m",
      "\u001b[0;31mNameError\u001b[0m                                 Traceback (most recent call last)",
      "\u001b[1;32m/opt/ml/final_project/tester/content_base.ipynb Cell 22'\u001b[0m in \u001b[0;36m<cell line: 1>\u001b[0;34m()\u001b[0m\n\u001b[0;32m----> <a href='vscode-notebook-cell://ssh-remote%2B118.67.128.150/opt/ml/final_project/tester/content_base.ipynb#ch0000041vscode-remote?line=0'>1</a>\u001b[0m user_profile\u001b[39m.\u001b[39msort_values(ascending\u001b[39m=\u001b[39m\u001b[39mFalse\u001b[39;00m)[:\u001b[39m10\u001b[39m]\n",
      "\u001b[0;31mNameError\u001b[0m: name 'user_profile' is not defined"
     ]
    }
   ],
   "source": [
    "user_profile.sort_values(ascending=False)[:10]"
   ]
  },
  {
   "cell_type": "code",
   "execution_count": null,
   "metadata": {},
   "outputs": [
    {
     "ename": "",
     "evalue": "",
     "output_type": "error",
     "traceback": [
      "\u001b[1;31mCanceled future for execute_request message before replies were done"
     ]
    },
    {
     "ename": "",
     "evalue": "",
     "output_type": "error",
     "traceback": [
      "\u001b[1;31mThe Kernel crashed while executing code in the the current cell or a previous cell. Please review the code in the cell(s) to identify a possible cause of the failure. Click <a href='https://aka.ms/vscodeJupyterKernelCrash'>here</a> for more info. View Jupyter <a href='command:jupyter.viewOutput'>log</a> for further details."
     ]
    }
   ],
   "source": [
    "movies_with_genres = movies_with_genres.set_index(movies_with_genres.asin)\n",
    "movies_with_genres.head()"
   ]
  },
  {
   "cell_type": "code",
   "execution_count": null,
   "metadata": {},
   "outputs": [
    {
     "ename": "NameError",
     "evalue": "name 'movies_with_genres' is not defined",
     "output_type": "error",
     "traceback": [
      "\u001b[0;31m---------------------------------------------------------------------------\u001b[0m",
      "\u001b[0;31mNameError\u001b[0m                                 Traceback (most recent call last)",
      "\u001b[1;32m/opt/ml/final_project/tester/content_base.ipynb Cell 24'\u001b[0m in \u001b[0;36m<cell line: 1>\u001b[0;34m()\u001b[0m\n\u001b[0;32m----> <a href='vscode-notebook-cell://ssh-remote%2B118.67.128.150/opt/ml/final_project/tester/content_base.ipynb#ch0000046vscode-remote?line=0'>1</a>\u001b[0m movies_with_genres\n",
      "\u001b[0;31mNameError\u001b[0m: name 'movies_with_genres' is not defined"
     ]
    }
   ],
   "source": [
    "movies_with_genres"
   ]
  },
  {
   "cell_type": "code",
   "execution_count": null,
   "metadata": {},
   "outputs": [],
   "source": []
  }
 ],
 "metadata": {
  "interpreter": {
   "hash": "d4d1e4263499bec80672ea0156c357c1ee493ec2b1c70f0acce89fc37c4a6abe"
  },
  "kernelspec": {
   "display_name": "Python 3.8.5 ('base')",
   "language": "python",
   "name": "python3"
  },
  "language_info": {
   "codemirror_mode": {
    "name": "ipython",
    "version": 3
   },
   "file_extension": ".py",
   "mimetype": "text/x-python",
   "name": "python",
   "nbconvert_exporter": "python",
   "pygments_lexer": "ipython3",
   "version": "3.8.5"
  },
  "orig_nbformat": 4
 },
 "nbformat": 4,
 "nbformat_minor": 2
}
