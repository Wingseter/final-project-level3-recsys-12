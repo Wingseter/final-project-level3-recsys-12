{
 "cells": [
  {
   "cell_type": "code",
   "execution_count": 3,
   "metadata": {},
   "outputs": [],
   "source": [
    "import json\n",
    "import gc\n",
    "from isbnlib import to_isbn13\n",
    "from tqdm import tqdm"
   ]
  },
  {
   "cell_type": "code",
   "execution_count": 4,
   "metadata": {},
   "outputs": [],
   "source": [
    "def load_json_data():\n",
    "    gc.collect()\n",
    "    with open(f'../data/amazon_meta.json', 'r') as json_file :\n",
    "        for line in json_file :\n",
    "            data = json.loads(line)\n",
    "            yield data['asin']"
   ]
  },
  {
   "cell_type": "code",
   "execution_count": 4,
   "metadata": {},
   "outputs": [
    {
     "name": "stderr",
     "output_type": "stream",
     "text": [
      "2934949it [00:49, 59578.79it/s]\n"
     ]
    }
   ],
   "source": [
    "with open('../data/isbn.txt', 'w') as f :\n",
    "    for data in tqdm(load_json_data()):\n",
    "        f.write(data+',')"
   ]
  },
  {
   "cell_type": "code",
   "execution_count": null,
   "metadata": {},
   "outputs": [],
   "source": []
  },
  {
   "cell_type": "code",
   "execution_count": 5,
   "metadata": {},
   "outputs": [
    {
     "name": "stderr",
     "output_type": "stream",
     "text": [
      "100%|██████████| 2934950/2934950 [01:04<00:00, 45762.16it/s] \n"
     ]
    }
   ],
   "source": [
    "json_dic = {'images' : []}\n",
    "\n",
    "json_file = open('../data/img_url_ver2.json', 'a')\n",
    "with open('../data/isbn.txt', 'r') as f :\n",
    "    data = f.readline()\n",
    "    isbns = data.split(',')\n",
    "    for isbn in tqdm(isbns) :\n",
    "        if to_isbn13(isbn) == '':\n",
    "            continue\n",
    "        json_file.write(f'{{\"isbn\" : \"{isbn}\", \"url\" : \"https://pictures.abebooks.com/isbn/{to_isbn13(isbn)}-us-300.jpg\"}}\\n')\n",
    "json_file.close()"
   ]
  },
  {
   "cell_type": "code",
   "execution_count": null,
   "metadata": {},
   "outputs": [],
   "source": []
  },
  {
   "cell_type": "code",
   "execution_count": 13,
   "metadata": {},
   "outputs": [
    {
     "data": {
      "text/plain": [
       "2603354"
      ]
     },
     "execution_count": 13,
     "metadata": {},
     "output_type": "execute_result"
    }
   ],
   "source": [
    "len(json_dic['images'])"
   ]
  },
  {
   "cell_type": "code",
   "execution_count": 14,
   "metadata": {},
   "outputs": [],
   "source": [
    "with open('../data/img_url.json', 'w') as f:\n",
    "    json.dump(json_dic, f, indent=4)"
   ]
  },
  {
   "cell_type": "code",
   "execution_count": 8,
   "metadata": {},
   "outputs": [
    {
     "name": "stdout",
     "output_type": "stream",
     "text": [
      "{\"isbn\" : \"0000092878\", \"url\" : \"https://pictures.abebooks.com/isbn/9780000092878-us-300.jpg\"}\n",
      "\n"
     ]
    }
   ],
   "source": [
    "with open('../data/img_url_ver2.json') as f :\n",
    "    data = f.readline()\n",
    "    print(data)"
   ]
  },
  {
   "cell_type": "code",
   "execution_count": null,
   "metadata": {},
   "outputs": [],
   "source": []
  }
 ],
 "metadata": {
  "interpreter": {
   "hash": "d4d1e4263499bec80672ea0156c357c1ee493ec2b1c70f0acce89fc37c4a6abe"
  },
  "kernelspec": {
   "display_name": "Python 3.8.5 ('base')",
   "language": "python",
   "name": "python3"
  },
  "language_info": {
   "codemirror_mode": {
    "name": "ipython",
    "version": 3
   },
   "file_extension": ".py",
   "mimetype": "text/x-python",
   "name": "python",
   "nbconvert_exporter": "python",
   "pygments_lexer": "ipython3",
   "version": "3.8.5"
  },
  "orig_nbformat": 4
 },
 "nbformat": 4,
 "nbformat_minor": 2
}
