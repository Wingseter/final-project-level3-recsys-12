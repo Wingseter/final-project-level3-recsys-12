{
 "cells": [
  {
   "cell_type": "code",
   "execution_count": 21,
   "metadata": {},
   "outputs": [],
   "source": [
    "import yaml\n",
    "import json\n",
    "from bs4 import BeautifulSoup\n",
    "import requests\n",
    "import pandas as pd\n",
    "from tqdm import tqdm\n",
    "import gc"
   ]
  },
  {
   "cell_type": "code",
   "execution_count": 2,
   "metadata": {},
   "outputs": [],
   "source": [
    "def load_rating():\n",
    "    gc.collect()\n",
    "    with open(f'../data/books.json', 'r') as json_file :\n",
    "        for line in json_file :\n",
    "            data = json.loads(line)\n",
    "            yield data['reviewerID'], data['asin']"
   ]
  },
  {
   "cell_type": "code",
   "execution_count": 3,
   "metadata": {},
   "outputs": [
    {
     "name": "stderr",
     "output_type": "stream",
     "text": [
      "51311621it [09:23, 91059.19it/s] \n"
     ]
    }
   ],
   "source": [
    "arr = []\n",
    "i = 0\n",
    "for data in tqdm(load_rating()):\n",
    "    arr.append(data)"
   ]
  },
  {
   "cell_type": "code",
   "execution_count": 4,
   "metadata": {},
   "outputs": [],
   "source": [
    "df = pd.DataFrame(arr, columns=['user','item'])"
   ]
  },
  {
   "cell_type": "code",
   "execution_count": 5,
   "metadata": {},
   "outputs": [],
   "source": [
    "cnt_user = df.groupby('user').agg({'item' : 'count'})\n",
    "cnt_book = df.groupby('item').agg({'user' : 'count'})"
   ]
  },
  {
   "cell_type": "code",
   "execution_count": 17,
   "metadata": {},
   "outputs": [],
   "source": [
    "user_more_h = cnt_user[cnt_user['item'] > 40]\n",
    "book_more_h = cnt_book[cnt_book['user'] > 40]"
   ]
  },
  {
   "cell_type": "code",
   "execution_count": 22,
   "metadata": {},
   "outputs": [],
   "source": [
    "user_list = user_more_h.index\n",
    "book_list = book_more_h.index"
   ]
  },
  {
   "cell_type": "code",
   "execution_count": 34,
   "metadata": {},
   "outputs": [],
   "source": [
    "df_t = df.loc[df['item'].isin(book_list)]\n",
    "df_t = df_t.loc[df_t['user'].isin(user_list)]"
   ]
  },
  {
   "cell_type": "code",
   "execution_count": 35,
   "metadata": {},
   "outputs": [],
   "source": [
    "books = df_t['item'].unique()"
   ]
  },
  {
   "cell_type": "code",
   "execution_count": 36,
   "metadata": {},
   "outputs": [
    {
     "data": {
      "text/plain": [
       "202233"
      ]
     },
     "execution_count": 36,
     "metadata": {},
     "output_type": "execute_result"
    }
   ],
   "source": [
    "len(books)"
   ]
  },
  {
   "cell_type": "code",
   "execution_count": 37,
   "metadata": {},
   "outputs": [],
   "source": [
    "def get_data(*keys):\n",
    "    data = volume_info\n",
    "    global err_toggle\n",
    "    try :\n",
    "        for key in keys:\n",
    "            data = data[key]\n",
    "        return data\n",
    "    except :\n",
    "        if key == 'authors' or key == 'categories':\n",
    "            return []\n",
    "        else : return None"
   ]
  },
  {
   "cell_type": "code",
   "execution_count": 19,
   "metadata": {},
   "outputs": [],
   "source": [
    "book_infos = pd.DataFrame(columns=['ISBN', 'authors', 'publisher', 'publish_date', 'description', 'page_cnt', 'categories', 'average_rating', 'rating_count', 'synopsis'])"
   ]
  },
  {
   "cell_type": "code",
   "execution_count": 40,
   "metadata": {},
   "outputs": [
    {
     "name": "stderr",
     "output_type": "stream",
     "text": [
      "100%|██████████| 90743/90743 [33:19:51<00:00,  1.32s/it]    \n"
     ]
    }
   ],
   "source": [
    "with open('../data/google_api_4.tsv', 'a') as f:\n",
    "#    f.write(f'ISBN\\tauthors\\tpublisher\\tpublish_date\\tdescription\\tpage_cnt\\tcategories\\taverage_rating\\trating_count\\tsynopsis\\n')\n",
    "    for i in tqdm(range(111490,len(books))) :\n",
    "        ISBN = books[i]\n",
    "        if 'B' in ISBN :\n",
    "            continue\n",
    "\n",
    "        response = requests.get(f\"https://www.googleapis.com/books/v1/volumes?q={ISBN}\")\n",
    "\n",
    "\n",
    "        try : volume_info = response.json()['items'][0]['volumeInfo']\n",
    "        except :\n",
    "            f.write(f'{ISBN}\\tNone\\tNone\\tNone\\tNone\\tNone\\tNone\\tNone\\tNone\\tNone\\n')\n",
    "            continue   \n",
    "\n",
    "        try :\n",
    "            if volume_info['industryIdentifiers'][0][\"identifier\"] != ISBN:\n",
    "                f.write(f'{ISBN}\\tNone\\tNone\\tNone\\tNone\\tNone\\tNone\\tNone\\tNone\\tNone\\n')\n",
    "                continue\n",
    "        except :\n",
    "            f.write(f'{ISBN}\\tNone\\tNone\\tNone\\tNone\\tNone\\tNone\\tNone\\tNone\\tNone\\n')\n",
    "            continue\n",
    "\n",
    "\n",
    "        description = get_data('description')\n",
    "        authors = get_data('authors')\n",
    "        publisher = get_data(\"publisher\")\n",
    "        publish_date = get_data(\"publishedDate\")\n",
    "        page_cnt = get_data('pageCount')\n",
    "        categories = get_data('categories')\n",
    "        average_rating = get_data('averageRating')\n",
    "        rating_count = get_data('ratingsCount')\n",
    "        info_link = get_data('infoLink')\n",
    "        synopsis = \"None\"\n",
    "        \n",
    "        if info_link != None : \n",
    "            html = BeautifulSoup(requests.get(info_link).text)\n",
    "            try : \n",
    "                synopsis = html.select_one('#synopsistext').text\n",
    "            except : synopsis = \"None\"\n",
    "\n",
    "        \n",
    "        f.write(f'{ISBN}\\t{authors}\\t{publisher}\\t{publish_date}\\t{description}\\t{page_cnt}\\t{categories}\\t{average_rating}\\t{rating_count}\\t{synopsis}\\n')"
   ]
  },
  {
   "cell_type": "code",
   "execution_count": null,
   "metadata": {},
   "outputs": [],
   "source": []
  },
  {
   "cell_type": "code",
   "execution_count": null,
   "metadata": {},
   "outputs": [],
   "source": []
  },
  {
   "cell_type": "code",
   "execution_count": null,
   "metadata": {},
   "outputs": [],
   "source": []
  },
  {
   "cell_type": "code",
   "execution_count": null,
   "metadata": {},
   "outputs": [],
   "source": []
  },
  {
   "cell_type": "code",
   "execution_count": null,
   "metadata": {},
   "outputs": [],
   "source": []
  }
 ],
 "metadata": {
  "interpreter": {
   "hash": "d4d1e4263499bec80672ea0156c357c1ee493ec2b1c70f0acce89fc37c4a6abe"
  },
  "kernelspec": {
   "display_name": "Python 3 (ipykernel)",
   "language": "python",
   "name": "python3"
  },
  "language_info": {
   "codemirror_mode": {
    "name": "ipython",
    "version": 3
   },
   "file_extension": ".py",
   "mimetype": "text/x-python",
   "name": "python",
   "nbconvert_exporter": "python",
   "pygments_lexer": "ipython3",
   "version": "3.8.5"
  }
 },
 "nbformat": 4,
 "nbformat_minor": 4
}
