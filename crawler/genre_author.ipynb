{
 "cells": [
  {
   "cell_type": "code",
   "execution_count": 17,
   "metadata": {},
   "outputs": [],
   "source": [
    "import yaml\n",
    "import json\n",
    "from bs4 import BeautifulSoup\n",
    "import requests\n",
    "import pandas as pd\n",
    "from tqdm import tqdm\n",
    "import gc"
   ]
  },
  {
   "cell_type": "code",
   "execution_count": 2,
   "metadata": {},
   "outputs": [],
   "source": [
    "def load_json_data():\n",
    "    gc.collect()\n",
    "    with open(f'../data/amazon_meta.json', 'r') as json_file :\n",
    "        for line in json_file :\n",
    "            data = json.loads(line)\n",
    "            yield data['asin']"
   ]
  },
  {
   "cell_type": "code",
   "execution_count": 18,
   "metadata": {},
   "outputs": [],
   "source": [
    "def load_rating():\n",
    "    gc.collect()\n",
    "    with open(f'../data/books.json', 'r') as json_file :\n",
    "        for line in json_file :\n",
    "            data = json.loads(line)\n",
    "            yield data['reviewerID'], data['asin']"
   ]
  },
  {
   "cell_type": "code",
   "execution_count": 19,
   "metadata": {},
   "outputs": [
    {
     "name": "stderr",
     "output_type": "stream",
     "text": [
      "51311621it [09:16, 92209.78it/s] \n"
     ]
    }
   ],
   "source": [
    "arr = []\n",
    "i = 0\n",
    "for data in tqdm(load_rating()):\n",
    "    arr.append(data)"
   ]
  },
  {
   "cell_type": "code",
   "execution_count": 20,
   "metadata": {
    "tags": []
   },
   "outputs": [],
   "source": [
    "df = pd.DataFrame(arr, columns=['user','item'])"
   ]
  },
  {
   "cell_type": "code",
   "execution_count": 21,
   "metadata": {},
   "outputs": [],
   "source": [
    "cnt_user = df.groupby('user').agg({'item' : 'count'})"
   ]
  },
  {
   "cell_type": "code",
   "execution_count": 22,
   "metadata": {},
   "outputs": [],
   "source": [
    "cnt_book = df.groupby('item').agg({'user' : 'count'})"
   ]
  },
  {
   "cell_type": "code",
   "execution_count": 23,
   "metadata": {},
   "outputs": [],
   "source": [
    "user_more_h = cnt_user[cnt_user['item'] > 500]\n",
    "book_more_h = cnt_book[cnt_book['user'] > 500]"
   ]
  },
  {
   "cell_type": "code",
   "execution_count": 24,
   "metadata": {},
   "outputs": [],
   "source": [
    "user_list = user_more_h.index\n",
    "book_list = book_more_h.index"
   ]
  },
  {
   "cell_type": "code",
   "execution_count": 25,
   "metadata": {},
   "outputs": [],
   "source": [
    "df_t = df.loc[df['user'].isin(user_list)]\n",
    "df_t = df_t.loc[df['item'].isin(book_list)]"
   ]
  },
  {
   "cell_type": "code",
   "execution_count": 26,
   "metadata": {},
   "outputs": [],
   "source": [
    "books = df_t['item'].unique()"
   ]
  },
  {
   "cell_type": "code",
   "execution_count": 27,
   "metadata": {},
   "outputs": [
    {
     "data": {
      "text/plain": [
       "9966"
      ]
     },
     "execution_count": 27,
     "metadata": {},
     "output_type": "execute_result"
    }
   ],
   "source": [
    "len(books)"
   ]
  },
  {
   "cell_type": "code",
   "execution_count": 31,
   "metadata": {},
   "outputs": [
    {
     "name": "stderr",
     "output_type": "stream",
     "text": [
      "100%|██████████| 8970/8970 [04:07<00:00, 36.25it/s] \n"
     ]
    }
   ],
   "source": [
    "with open('../data/publisher.json', 'a') as f:\n",
    "    for i in tqdm(range(996, len(books))) :\n",
    "        asin = books[i]\n",
    "        if 'B' in asin :\n",
    "            continue\n",
    "        try :\n",
    "            response = requests.get(f\"https://www.bookfinder.com/search/?keywords={asin}&currency=USD&destination=kr&mode=basic&classic=off&lang=en&st=sh&ac=qr&submit=\")\n",
    "            body = BeautifulSoup(response.text).find('body')\n",
    "            publisher = body.select_one('.describe-isbn').text.split(', ')\n",
    "            author = body.select_one('#bd-isbn > div > div.attributes > div:nth-child(2) > p > strong > a > span').text\n",
    "            f.write(f'{{\"isbn\" : \"{asin}\", \"publisher\" : \"{publisher[0]}\", \"year\" : \"{publisher[1]}\", \"author\" : \"{author}\"}}\\n')\n",
    "        except:\n",
    "            f.write(f'{{\"isbn\" : \"{asin}\", \"publisher\" : \"None\", \"year\" : \"None\", \"author\" : \"None\"}}\\n')"
   ]
  },
  {
   "cell_type": "code",
   "execution_count": 29,
   "metadata": {},
   "outputs": [
    {
     "name": "stdout",
     "output_type": "stream",
     "text": [
      "{\"isbn\" : \"0001384198\", \"publisher\" : \"HarperCollins Publishers\", \"year\" : \"1984\", \"author\" : \"Piper Watty\"}\n",
      "\n"
     ]
    }
   ],
   "source": [
    "with open('../data/publisher.json', 'r') as f:\n",
    "    for line in f.readlines() :\n",
    "        print(line)\n",
    "        break"
   ]
  },
  {
   "cell_type": "code",
   "execution_count": null,
   "metadata": {},
   "outputs": [],
   "source": []
  }
 ],
 "metadata": {
  "interpreter": {
   "hash": "d4d1e4263499bec80672ea0156c357c1ee493ec2b1c70f0acce89fc37c4a6abe"
  },
  "kernelspec": {
   "display_name": "Python 3 (ipykernel)",
   "language": "python",
   "name": "python3"
  },
  "language_info": {
   "codemirror_mode": {
    "name": "ipython",
    "version": 3
   },
   "file_extension": ".py",
   "mimetype": "text/x-python",
   "name": "python",
   "nbconvert_exporter": "python",
   "pygments_lexer": "ipython3",
   "version": "3.8.5"
  }
 },
 "nbformat": 4,
 "nbformat_minor": 4
}
