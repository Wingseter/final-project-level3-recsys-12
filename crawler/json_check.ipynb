{
 "cells": [
  {
   "cell_type": "code",
   "execution_count": 36,
   "metadata": {},
   "outputs": [],
   "source": [
    "import json\n",
    "import gc\n",
    "from tqdm import tqdm\n",
    "import numpy as np\n",
    "import pandas as pd"
   ]
  },
  {
   "cell_type": "code",
   "execution_count": 37,
   "metadata": {},
   "outputs": [],
   "source": [
    "def load_json_data():\n",
    "    gc.collect()\n",
    "    with open(f'../data/amazon_rating.json', 'r') as json_file :\n",
    "        for line in json_file :\n",
    "            data = json.loads(line)\n",
    "            yield data['reviewerID'], data['asin']"
   ]
  },
  {
   "cell_type": "code",
   "execution_count": 38,
   "metadata": {},
   "outputs": [
    {
     "name": "stderr",
     "output_type": "stream",
     "text": [
      "51311621it [09:08, 93613.16it/s] \n"
     ]
    }
   ],
   "source": [
    "arr = []\n",
    "i = 0\n",
    "for data in tqdm(load_json_data()):\n",
    "    arr.append(data)\n",
    "    # i+=1\n",
    "    # if i == 10 :\n",
    "    #     break"
   ]
  },
  {
   "cell_type": "code",
   "execution_count": 39,
   "metadata": {},
   "outputs": [],
   "source": [
    "df = pd.DataFrame(arr)"
   ]
  },
  {
   "cell_type": "code",
   "execution_count": 40,
   "metadata": {},
   "outputs": [],
   "source": [
    "books = df[0].unique()"
   ]
  },
  {
   "cell_type": "code",
   "execution_count": 41,
   "metadata": {},
   "outputs": [],
   "source": [
    "users = df[1].unique()"
   ]
  },
  {
   "cell_type": "code",
   "execution_count": 42,
   "metadata": {},
   "outputs": [
    {
     "data": {
      "text/plain": [
       "2930451"
      ]
     },
     "execution_count": 42,
     "metadata": {},
     "output_type": "execute_result"
    }
   ],
   "source": [
    "len(users)"
   ]
  },
  {
   "cell_type": "code",
   "execution_count": 43,
   "metadata": {},
   "outputs": [
    {
     "data": {
      "text/plain": [
       "15362619"
      ]
     },
     "execution_count": 43,
     "metadata": {},
     "output_type": "execute_result"
    }
   ],
   "source": [
    "len(books)"
   ]
  },
  {
   "cell_type": "code",
   "execution_count": 20,
   "metadata": {},
   "outputs": [
    {
     "data": {
      "text/plain": [
       "0.0001139766822298452"
      ]
     },
     "execution_count": 20,
     "metadata": {},
     "output_type": "execute_result"
    }
   ],
   "source": [
    "51311621 / (2930451 * 15362619) * 100"
   ]
  },
  {
   "cell_type": "code",
   "execution_count": 36,
   "metadata": {},
   "outputs": [
    {
     "data": {
      "text/plain": [
       "0.0001256026499626508"
      ]
     },
     "execution_count": 36,
     "metadata": {},
     "output_type": "execute_result"
    }
   ],
   "source": [
    "len(df) / (len(users) * len(books)) * 100"
   ]
  },
  {
   "cell_type": "code",
   "execution_count": 38,
   "metadata": {},
   "outputs": [
    {
     "data": {
      "text/plain": [
       "0.11298152029217544"
      ]
     },
     "execution_count": 38,
     "metadata": {},
     "output_type": "execute_result"
    },
    {
     "ename": "",
     "evalue": "",
     "output_type": "error",
     "traceback": [
      "\u001b[1;31mThe Kernel crashed while executing code in the the current cell or a previous cell. Please review the code in the cell(s) to identify a possible cause of the failure. Click <a href='https://aka.ms/vscodeJupyterKernelCrash'>here</a> for more info. View Jupyter <a href='command:jupyter.viewOutput'>log</a> for further details."
     ]
    }
   ],
   "source": [
    "(2934949 - 2603354) / 2934949"
   ]
  },
  {
   "cell_type": "code",
   "execution_count": 47,
   "metadata": {},
   "outputs": [
    {
     "data": {
      "text/html": [
       "<div>\n",
       "<style scoped>\n",
       "    .dataframe tbody tr th:only-of-type {\n",
       "        vertical-align: middle;\n",
       "    }\n",
       "\n",
       "    .dataframe tbody tr th {\n",
       "        vertical-align: top;\n",
       "    }\n",
       "\n",
       "    .dataframe thead th {\n",
       "        text-align: right;\n",
       "    }\n",
       "</style>\n",
       "<table border=\"1\" class=\"dataframe\">\n",
       "  <thead>\n",
       "    <tr style=\"text-align: right;\">\n",
       "      <th></th>\n",
       "      <th>0</th>\n",
       "      <th>1</th>\n",
       "    </tr>\n",
       "  </thead>\n",
       "  <tbody>\n",
       "    <tr>\n",
       "      <th>0</th>\n",
       "      <td>A1C6M8LCIX4M6M</td>\n",
       "      <td>0001713353</td>\n",
       "    </tr>\n",
       "    <tr>\n",
       "      <th>1</th>\n",
       "      <td>A1REUF3A1YCPHM</td>\n",
       "      <td>0001713353</td>\n",
       "    </tr>\n",
       "    <tr>\n",
       "      <th>2</th>\n",
       "      <td>A1YRBRK2XM5D5</td>\n",
       "      <td>0001713353</td>\n",
       "    </tr>\n",
       "    <tr>\n",
       "      <th>3</th>\n",
       "      <td>A1V8ZR5P78P4ZU</td>\n",
       "      <td>0001713353</td>\n",
       "    </tr>\n",
       "    <tr>\n",
       "      <th>4</th>\n",
       "      <td>A2ZB06582NXCIV</td>\n",
       "      <td>0001713353</td>\n",
       "    </tr>\n",
       "    <tr>\n",
       "      <th>...</th>\n",
       "      <td>...</td>\n",
       "      <td>...</td>\n",
       "    </tr>\n",
       "    <tr>\n",
       "      <th>51276081</th>\n",
       "      <td>A2TJQZFD83M4U3</td>\n",
       "      <td>1533033358</td>\n",
       "    </tr>\n",
       "    <tr>\n",
       "      <th>51276082</th>\n",
       "      <td>A13237H26K6QRL</td>\n",
       "      <td>1533033358</td>\n",
       "    </tr>\n",
       "    <tr>\n",
       "      <th>51276083</th>\n",
       "      <td>A2L8PRFL2S5L0K</td>\n",
       "      <td>1533033358</td>\n",
       "    </tr>\n",
       "    <tr>\n",
       "      <th>51276086</th>\n",
       "      <td>A13237H26K6QRL</td>\n",
       "      <td>153303379X</td>\n",
       "    </tr>\n",
       "    <tr>\n",
       "      <th>51276098</th>\n",
       "      <td>AJHFSHPU4IOZB</td>\n",
       "      <td>8417067701</td>\n",
       "    </tr>\n",
       "  </tbody>\n",
       "</table>\n",
       "<p>49453632 rows × 2 columns</p>\n",
       "</div>"
      ],
      "text/plain": [
       "                       0           1\n",
       "0         A1C6M8LCIX4M6M  0001713353\n",
       "1         A1REUF3A1YCPHM  0001713353\n",
       "2          A1YRBRK2XM5D5  0001713353\n",
       "3         A1V8ZR5P78P4ZU  0001713353\n",
       "4         A2ZB06582NXCIV  0001713353\n",
       "...                  ...         ...\n",
       "51276081  A2TJQZFD83M4U3  1533033358\n",
       "51276082  A13237H26K6QRL  1533033358\n",
       "51276083  A2L8PRFL2S5L0K  1533033358\n",
       "51276086  A13237H26K6QRL  153303379X\n",
       "51276098   AJHFSHPU4IOZB  8417067701\n",
       "\n",
       "[49453632 rows x 2 columns]"
      ]
     },
     "execution_count": 47,
     "metadata": {},
     "output_type": "execute_result"
    }
   ],
   "source": [
    "df"
   ]
  },
  {
   "cell_type": "code",
   "execution_count": 45,
   "metadata": {},
   "outputs": [],
   "source": [
    "df.drop(df[(df[1].str.match('B'))].index, inplace=True)"
   ]
  },
  {
   "cell_type": "code",
   "execution_count": 58,
   "metadata": {},
   "outputs": [],
   "source": [
    "book_cnt = df.groupby(0, as_index=False).agg({1 : 'count'})"
   ]
  },
  {
   "cell_type": "code",
   "execution_count": 51,
   "metadata": {},
   "outputs": [],
   "source": [
    "user_cnt = df.groupby(1, as_index=False).agg({0 : 'count'})"
   ]
  },
  {
   "cell_type": "code",
   "execution_count": 33,
   "metadata": {},
   "outputs": [
    {
     "data": {
      "text/html": [
       "<div>\n",
       "<style scoped>\n",
       "    .dataframe tbody tr th:only-of-type {\n",
       "        vertical-align: middle;\n",
       "    }\n",
       "\n",
       "    .dataframe tbody tr th {\n",
       "        vertical-align: top;\n",
       "    }\n",
       "\n",
       "    .dataframe thead th {\n",
       "        text-align: right;\n",
       "    }\n",
       "</style>\n",
       "<table border=\"1\" class=\"dataframe\">\n",
       "  <thead>\n",
       "    <tr style=\"text-align: right;\">\n",
       "      <th></th>\n",
       "      <th>1</th>\n",
       "      <th>0</th>\n",
       "    </tr>\n",
       "  </thead>\n",
       "  <tbody>\n",
       "    <tr>\n",
       "      <th>0</th>\n",
       "      <td>0000000116</td>\n",
       "      <td>2</td>\n",
       "    </tr>\n",
       "    <tr>\n",
       "      <th>1</th>\n",
       "      <td>0000000868</td>\n",
       "      <td>1</td>\n",
       "    </tr>\n",
       "    <tr>\n",
       "      <th>2</th>\n",
       "      <td>0000001589</td>\n",
       "      <td>1</td>\n",
       "    </tr>\n",
       "    <tr>\n",
       "      <th>3</th>\n",
       "      <td>0000004545</td>\n",
       "      <td>2</td>\n",
       "    </tr>\n",
       "    <tr>\n",
       "      <th>4</th>\n",
       "      <td>0000013765</td>\n",
       "      <td>25</td>\n",
       "    </tr>\n",
       "    <tr>\n",
       "      <th>...</th>\n",
       "      <td>...</td>\n",
       "      <td>...</td>\n",
       "    </tr>\n",
       "    <tr>\n",
       "      <th>2603247</th>\n",
       "      <td>9999943802</td>\n",
       "      <td>4</td>\n",
       "    </tr>\n",
       "    <tr>\n",
       "      <th>2603248</th>\n",
       "      <td>9999963676</td>\n",
       "      <td>1</td>\n",
       "    </tr>\n",
       "    <tr>\n",
       "      <th>2603249</th>\n",
       "      <td>9999982654</td>\n",
       "      <td>1</td>\n",
       "    </tr>\n",
       "    <tr>\n",
       "      <th>2603250</th>\n",
       "      <td>9999990223</td>\n",
       "      <td>1</td>\n",
       "    </tr>\n",
       "    <tr>\n",
       "      <th>2603251</th>\n",
       "      <td>9999991483</td>\n",
       "      <td>1</td>\n",
       "    </tr>\n",
       "  </tbody>\n",
       "</table>\n",
       "<p>2603252 rows × 2 columns</p>\n",
       "</div>"
      ],
      "text/plain": [
       "                  1   0\n",
       "0        0000000116   2\n",
       "1        0000000868   1\n",
       "2        0000001589   1\n",
       "3        0000004545   2\n",
       "4        0000013765  25\n",
       "...             ...  ..\n",
       "2603247  9999943802   4\n",
       "2603248  9999963676   1\n",
       "2603249  9999982654   1\n",
       "2603250  9999990223   1\n",
       "2603251  9999991483   1\n",
       "\n",
       "[2603252 rows x 2 columns]"
      ]
     },
     "execution_count": 33,
     "metadata": {},
     "output_type": "execute_result"
    }
   ],
   "source": [
    "user_cnt"
   ]
  },
  {
   "cell_type": "code",
   "execution_count": 9,
   "metadata": {},
   "outputs": [
    {
     "data": {
      "text/html": [
       "<div>\n",
       "<style scoped>\n",
       "    .dataframe tbody tr th:only-of-type {\n",
       "        vertical-align: middle;\n",
       "    }\n",
       "\n",
       "    .dataframe tbody tr th {\n",
       "        vertical-align: top;\n",
       "    }\n",
       "\n",
       "    .dataframe thead th {\n",
       "        text-align: right;\n",
       "    }\n",
       "</style>\n",
       "<table border=\"1\" class=\"dataframe\">\n",
       "  <thead>\n",
       "    <tr style=\"text-align: right;\">\n",
       "      <th></th>\n",
       "      <th>0</th>\n",
       "      <th>1</th>\n",
       "    </tr>\n",
       "  </thead>\n",
       "  <tbody>\n",
       "    <tr>\n",
       "      <th>0</th>\n",
       "      <td>A1C6M8LCIX4M6M</td>\n",
       "      <td>0001713353</td>\n",
       "    </tr>\n",
       "    <tr>\n",
       "      <th>1</th>\n",
       "      <td>A1REUF3A1YCPHM</td>\n",
       "      <td>0001713353</td>\n",
       "    </tr>\n",
       "    <tr>\n",
       "      <th>2</th>\n",
       "      <td>A1YRBRK2XM5D5</td>\n",
       "      <td>0001713353</td>\n",
       "    </tr>\n",
       "    <tr>\n",
       "      <th>3</th>\n",
       "      <td>A1V8ZR5P78P4ZU</td>\n",
       "      <td>0001713353</td>\n",
       "    </tr>\n",
       "    <tr>\n",
       "      <th>4</th>\n",
       "      <td>A2ZB06582NXCIV</td>\n",
       "      <td>0001713353</td>\n",
       "    </tr>\n",
       "    <tr>\n",
       "      <th>...</th>\n",
       "      <td>...</td>\n",
       "      <td>...</td>\n",
       "    </tr>\n",
       "    <tr>\n",
       "      <th>51276081</th>\n",
       "      <td>A2TJQZFD83M4U3</td>\n",
       "      <td>1533033358</td>\n",
       "    </tr>\n",
       "    <tr>\n",
       "      <th>51276082</th>\n",
       "      <td>A13237H26K6QRL</td>\n",
       "      <td>1533033358</td>\n",
       "    </tr>\n",
       "    <tr>\n",
       "      <th>51276083</th>\n",
       "      <td>A2L8PRFL2S5L0K</td>\n",
       "      <td>1533033358</td>\n",
       "    </tr>\n",
       "    <tr>\n",
       "      <th>51276086</th>\n",
       "      <td>A13237H26K6QRL</td>\n",
       "      <td>153303379X</td>\n",
       "    </tr>\n",
       "    <tr>\n",
       "      <th>51276098</th>\n",
       "      <td>AJHFSHPU4IOZB</td>\n",
       "      <td>8417067701</td>\n",
       "    </tr>\n",
       "  </tbody>\n",
       "</table>\n",
       "<p>49453632 rows × 2 columns</p>\n",
       "</div>"
      ],
      "text/plain": [
       "                       0           1\n",
       "0         A1C6M8LCIX4M6M  0001713353\n",
       "1         A1REUF3A1YCPHM  0001713353\n",
       "2          A1YRBRK2XM5D5  0001713353\n",
       "3         A1V8ZR5P78P4ZU  0001713353\n",
       "4         A2ZB06582NXCIV  0001713353\n",
       "...                  ...         ...\n",
       "51276081  A2TJQZFD83M4U3  1533033358\n",
       "51276082  A13237H26K6QRL  1533033358\n",
       "51276083  A2L8PRFL2S5L0K  1533033358\n",
       "51276086  A13237H26K6QRL  153303379X\n",
       "51276098   AJHFSHPU4IOZB  8417067701\n",
       "\n",
       "[49453632 rows x 2 columns]"
      ]
     },
     "execution_count": 9,
     "metadata": {},
     "output_type": "execute_result"
    }
   ],
   "source": [
    "df"
   ]
  },
  {
   "cell_type": "code",
   "execution_count": 23,
   "metadata": {},
   "outputs": [],
   "source": [
    "user_list = list(book_cnt[book_cnt[1] > 10][0])"
   ]
  },
  {
   "cell_type": "code",
   "execution_count": 53,
   "metadata": {},
   "outputs": [
    {
     "data": {
      "text/html": [
       "<div>\n",
       "<style scoped>\n",
       "    .dataframe tbody tr th:only-of-type {\n",
       "        vertical-align: middle;\n",
       "    }\n",
       "\n",
       "    .dataframe tbody tr th {\n",
       "        vertical-align: top;\n",
       "    }\n",
       "\n",
       "    .dataframe thead th {\n",
       "        text-align: right;\n",
       "    }\n",
       "</style>\n",
       "<table border=\"1\" class=\"dataframe\">\n",
       "  <thead>\n",
       "    <tr style=\"text-align: right;\">\n",
       "      <th></th>\n",
       "      <th>1</th>\n",
       "      <th>0</th>\n",
       "    </tr>\n",
       "  </thead>\n",
       "  <tbody>\n",
       "    <tr>\n",
       "      <th>0</th>\n",
       "      <td>0000000116</td>\n",
       "      <td>2</td>\n",
       "    </tr>\n",
       "    <tr>\n",
       "      <th>1</th>\n",
       "      <td>0000000868</td>\n",
       "      <td>1</td>\n",
       "    </tr>\n",
       "    <tr>\n",
       "      <th>2</th>\n",
       "      <td>0000001589</td>\n",
       "      <td>1</td>\n",
       "    </tr>\n",
       "    <tr>\n",
       "      <th>3</th>\n",
       "      <td>0000004545</td>\n",
       "      <td>2</td>\n",
       "    </tr>\n",
       "    <tr>\n",
       "      <th>4</th>\n",
       "      <td>0000013765</td>\n",
       "      <td>25</td>\n",
       "    </tr>\n",
       "    <tr>\n",
       "      <th>...</th>\n",
       "      <td>...</td>\n",
       "      <td>...</td>\n",
       "    </tr>\n",
       "    <tr>\n",
       "      <th>2603247</th>\n",
       "      <td>9999943802</td>\n",
       "      <td>4</td>\n",
       "    </tr>\n",
       "    <tr>\n",
       "      <th>2603248</th>\n",
       "      <td>9999963676</td>\n",
       "      <td>1</td>\n",
       "    </tr>\n",
       "    <tr>\n",
       "      <th>2603249</th>\n",
       "      <td>9999982654</td>\n",
       "      <td>1</td>\n",
       "    </tr>\n",
       "    <tr>\n",
       "      <th>2603250</th>\n",
       "      <td>9999990223</td>\n",
       "      <td>1</td>\n",
       "    </tr>\n",
       "    <tr>\n",
       "      <th>2603251</th>\n",
       "      <td>9999991483</td>\n",
       "      <td>1</td>\n",
       "    </tr>\n",
       "  </tbody>\n",
       "</table>\n",
       "<p>2603252 rows × 2 columns</p>\n",
       "</div>"
      ],
      "text/plain": [
       "                  1   0\n",
       "0        0000000116   2\n",
       "1        0000000868   1\n",
       "2        0000001589   1\n",
       "3        0000004545   2\n",
       "4        0000013765  25\n",
       "...             ...  ..\n",
       "2603247  9999943802   4\n",
       "2603248  9999963676   1\n",
       "2603249  9999982654   1\n",
       "2603250  9999990223   1\n",
       "2603251  9999991483   1\n",
       "\n",
       "[2603252 rows x 2 columns]"
      ]
     },
     "execution_count": 53,
     "metadata": {},
     "output_type": "execute_result"
    }
   ],
   "source": [
    "user_cnt"
   ]
  },
  {
   "cell_type": "code",
   "execution_count": 54,
   "metadata": {},
   "outputs": [
    {
     "data": {
      "text/html": [
       "<div>\n",
       "<style scoped>\n",
       "    .dataframe tbody tr th:only-of-type {\n",
       "        vertical-align: middle;\n",
       "    }\n",
       "\n",
       "    .dataframe tbody tr th {\n",
       "        vertical-align: top;\n",
       "    }\n",
       "\n",
       "    .dataframe thead th {\n",
       "        text-align: right;\n",
       "    }\n",
       "</style>\n",
       "<table border=\"1\" class=\"dataframe\">\n",
       "  <thead>\n",
       "    <tr style=\"text-align: right;\">\n",
       "      <th></th>\n",
       "      <th>0</th>\n",
       "      <th>1</th>\n",
       "    </tr>\n",
       "  </thead>\n",
       "  <tbody>\n",
       "    <tr>\n",
       "      <th>139</th>\n",
       "      <td>A2VDN6OJOIY74W</td>\n",
       "      <td>0002005263</td>\n",
       "    </tr>\n",
       "    <tr>\n",
       "      <th>140</th>\n",
       "      <td>A1POJBC0L210UT</td>\n",
       "      <td>0002005263</td>\n",
       "    </tr>\n",
       "    <tr>\n",
       "      <th>141</th>\n",
       "      <td>A2X9XKFB18UQCU</td>\n",
       "      <td>0002005263</td>\n",
       "    </tr>\n",
       "    <tr>\n",
       "      <th>142</th>\n",
       "      <td>AEC46NVS07MJ9</td>\n",
       "      <td>0002005263</td>\n",
       "    </tr>\n",
       "    <tr>\n",
       "      <th>143</th>\n",
       "      <td>A9ANMVCEOQ8P7</td>\n",
       "      <td>0002005263</td>\n",
       "    </tr>\n",
       "    <tr>\n",
       "      <th>...</th>\n",
       "      <td>...</td>\n",
       "      <td>...</td>\n",
       "    </tr>\n",
       "    <tr>\n",
       "      <th>51273751</th>\n",
       "      <td>AIVBMXYCVSFLN</td>\n",
       "      <td>1684330718</td>\n",
       "    </tr>\n",
       "    <tr>\n",
       "      <th>51273752</th>\n",
       "      <td>A3BWPO0JZK7O2Q</td>\n",
       "      <td>1684330718</td>\n",
       "    </tr>\n",
       "    <tr>\n",
       "      <th>51273753</th>\n",
       "      <td>A1RKBN23T4O8C7</td>\n",
       "      <td>1684330718</td>\n",
       "    </tr>\n",
       "    <tr>\n",
       "      <th>51273754</th>\n",
       "      <td>A31BN3V5GS79WA</td>\n",
       "      <td>1684330718</td>\n",
       "    </tr>\n",
       "    <tr>\n",
       "      <th>51273755</th>\n",
       "      <td>A1BQW52ICTBXGH</td>\n",
       "      <td>1684330718</td>\n",
       "    </tr>\n",
       "  </tbody>\n",
       "</table>\n",
       "<p>26951054 rows × 2 columns</p>\n",
       "</div>"
      ],
      "text/plain": [
       "                       0           1\n",
       "139       A2VDN6OJOIY74W  0002005263\n",
       "140       A1POJBC0L210UT  0002005263\n",
       "141       A2X9XKFB18UQCU  0002005263\n",
       "142        AEC46NVS07MJ9  0002005263\n",
       "143        A9ANMVCEOQ8P7  0002005263\n",
       "...                  ...         ...\n",
       "51273751   AIVBMXYCVSFLN  1684330718\n",
       "51273752  A3BWPO0JZK7O2Q  1684330718\n",
       "51273753  A1RKBN23T4O8C7  1684330718\n",
       "51273754  A31BN3V5GS79WA  1684330718\n",
       "51273755  A1BQW52ICTBXGH  1684330718\n",
       "\n",
       "[26951054 rows x 2 columns]"
      ]
     },
     "execution_count": 54,
     "metadata": {},
     "output_type": "execute_result"
    }
   ],
   "source": [
    "df_t"
   ]
  },
  {
   "cell_type": "code",
   "execution_count": 69,
   "metadata": {},
   "outputs": [
    {
     "name": "stdout",
     "output_type": "stream",
     "text": [
      "truc : 100, rating : 2876441, book_cnt : 77700, user_cnt : 24176\n"
     ]
    }
   ],
   "source": [
    "book_list = list(user_cnt[user_cnt[0] > 100][1])\n",
    "user_list = list(book_cnt[book_cnt[1] > 100][0])\n",
    "\n",
    "df_t = df.loc[df[0].isin(user_list)]\n",
    "df_t = df_t.loc[df_t[1].isin(book_list)]\n",
    "user_len = len(df_t[0].unique())\n",
    "book_len = len(df_t[1].unique())\n",
    "print(f'truc : {100}, rating : {len(df_t)}, book_cnt : {book_len}, user_cnt : {user_len}')"
   ]
  },
  {
   "cell_type": "code",
   "execution_count": 68,
   "metadata": {},
   "outputs": [
    {
     "data": {
      "text/html": [
       "<div>\n",
       "<style scoped>\n",
       "    .dataframe tbody tr th:only-of-type {\n",
       "        vertical-align: middle;\n",
       "    }\n",
       "\n",
       "    .dataframe tbody tr th {\n",
       "        vertical-align: top;\n",
       "    }\n",
       "\n",
       "    .dataframe thead th {\n",
       "        text-align: right;\n",
       "    }\n",
       "</style>\n",
       "<table border=\"1\" class=\"dataframe\">\n",
       "  <thead>\n",
       "    <tr style=\"text-align: right;\">\n",
       "      <th></th>\n",
       "      <th>1</th>\n",
       "      <th>0</th>\n",
       "    </tr>\n",
       "  </thead>\n",
       "  <tbody>\n",
       "    <tr>\n",
       "      <th>0</th>\n",
       "      <td>0000000116</td>\n",
       "      <td>2</td>\n",
       "    </tr>\n",
       "    <tr>\n",
       "      <th>1</th>\n",
       "      <td>0000000868</td>\n",
       "      <td>1</td>\n",
       "    </tr>\n",
       "    <tr>\n",
       "      <th>2</th>\n",
       "      <td>0000001589</td>\n",
       "      <td>1</td>\n",
       "    </tr>\n",
       "    <tr>\n",
       "      <th>3</th>\n",
       "      <td>0000004545</td>\n",
       "      <td>2</td>\n",
       "    </tr>\n",
       "    <tr>\n",
       "      <th>4</th>\n",
       "      <td>0000013765</td>\n",
       "      <td>25</td>\n",
       "    </tr>\n",
       "    <tr>\n",
       "      <th>...</th>\n",
       "      <td>...</td>\n",
       "      <td>...</td>\n",
       "    </tr>\n",
       "    <tr>\n",
       "      <th>2603247</th>\n",
       "      <td>9999943802</td>\n",
       "      <td>4</td>\n",
       "    </tr>\n",
       "    <tr>\n",
       "      <th>2603248</th>\n",
       "      <td>9999963676</td>\n",
       "      <td>1</td>\n",
       "    </tr>\n",
       "    <tr>\n",
       "      <th>2603249</th>\n",
       "      <td>9999982654</td>\n",
       "      <td>1</td>\n",
       "    </tr>\n",
       "    <tr>\n",
       "      <th>2603250</th>\n",
       "      <td>9999990223</td>\n",
       "      <td>1</td>\n",
       "    </tr>\n",
       "    <tr>\n",
       "      <th>2603251</th>\n",
       "      <td>9999991483</td>\n",
       "      <td>1</td>\n",
       "    </tr>\n",
       "  </tbody>\n",
       "</table>\n",
       "<p>2603252 rows × 2 columns</p>\n",
       "</div>"
      ],
      "text/plain": [
       "                  1   0\n",
       "0        0000000116   2\n",
       "1        0000000868   1\n",
       "2        0000001589   1\n",
       "3        0000004545   2\n",
       "4        0000013765  25\n",
       "...             ...  ..\n",
       "2603247  9999943802   4\n",
       "2603248  9999963676   1\n",
       "2603249  9999982654   1\n",
       "2603250  9999990223   1\n",
       "2603251  9999991483   1\n",
       "\n",
       "[2603252 rows x 2 columns]"
      ]
     },
     "execution_count": 68,
     "metadata": {},
     "output_type": "execute_result"
    }
   ],
   "source": [
    "user_cnt"
   ]
  },
  {
   "cell_type": "code",
   "execution_count": null,
   "metadata": {},
   "outputs": [],
   "source": []
  },
  {
   "cell_type": "code",
   "execution_count": 48,
   "metadata": {},
   "outputs": [
    {
     "ename": "KeyboardInterrupt",
     "evalue": "",
     "output_type": "error",
     "traceback": [
      "\u001b[0;31m---------------------------------------------------------------------------\u001b[0m",
      "\u001b[0;31mKeyboardInterrupt\u001b[0m                         Traceback (most recent call last)",
      "\u001b[1;32m/opt/ml/final_project/crawler/json_check.ipynb Cell 19'\u001b[0m in \u001b[0;36m<cell line: 2>\u001b[0;34m()\u001b[0m\n\u001b[1;32m      <a href='vscode-notebook-cell://ssh-remote%2B118.67.128.150/opt/ml/final_project/crawler/json_check.ipynb#ch0000017vscode-remote?line=3'>4</a>\u001b[0m df_t \u001b[39m=\u001b[39m df\u001b[39m.\u001b[39mloc[df[\u001b[39m1\u001b[39m]\u001b[39m.\u001b[39misin(book_list)]\n\u001b[1;32m      <a href='vscode-notebook-cell://ssh-remote%2B118.67.128.150/opt/ml/final_project/crawler/json_check.ipynb#ch0000017vscode-remote?line=4'>5</a>\u001b[0m user_cnt \u001b[39m=\u001b[39m \u001b[39mlen\u001b[39m(df_t[\u001b[39m0\u001b[39m]\u001b[39m.\u001b[39munique())\n\u001b[0;32m----> <a href='vscode-notebook-cell://ssh-remote%2B118.67.128.150/opt/ml/final_project/crawler/json_check.ipynb#ch0000017vscode-remote?line=5'>6</a>\u001b[0m book_cnt \u001b[39m=\u001b[39m \u001b[39mlen\u001b[39m(df_t[\u001b[39m1\u001b[39;49m]\u001b[39m.\u001b[39;49munique())\n\u001b[1;32m      <a href='vscode-notebook-cell://ssh-remote%2B118.67.128.150/opt/ml/final_project/crawler/json_check.ipynb#ch0000017vscode-remote?line=6'>7</a>\u001b[0m \u001b[39mprint\u001b[39m(\u001b[39mf\u001b[39m\u001b[39m'\u001b[39m\u001b[39mtruc : \u001b[39m\u001b[39m{\u001b[39;00mi\u001b[39m}\u001b[39;00m\u001b[39m, rating : \u001b[39m\u001b[39m{\u001b[39;00m\u001b[39mlen\u001b[39m(df)\u001b[39m}\u001b[39;00m\u001b[39m, book_cnt : \u001b[39m\u001b[39m{\u001b[39;00m\u001b[39mlen\u001b[39m(book_cnt)\u001b[39m}\u001b[39;00m\u001b[39m, user_cnt : \u001b[39m\u001b[39m{\u001b[39;00m\u001b[39mlen\u001b[39m(user_cnt)\u001b[39m}\u001b[39;00m\u001b[39m'\u001b[39m)\n",
      "File \u001b[0;32m/opt/conda/lib/python3.8/site-packages/pandas/core/series.py:2088\u001b[0m, in \u001b[0;36mSeries.unique\u001b[0;34m(self)\u001b[0m\n\u001b[1;32m   <a href='file:///opt/conda/lib/python3.8/site-packages/pandas/core/series.py?line=2029'>2030</a>\u001b[0m \u001b[39mdef\u001b[39;00m \u001b[39munique\u001b[39m(\u001b[39mself\u001b[39m) \u001b[39m-\u001b[39m\u001b[39m>\u001b[39m ArrayLike:\n\u001b[1;32m   <a href='file:///opt/conda/lib/python3.8/site-packages/pandas/core/series.py?line=2030'>2031</a>\u001b[0m     \u001b[39m\"\"\"\u001b[39;00m\n\u001b[1;32m   <a href='file:///opt/conda/lib/python3.8/site-packages/pandas/core/series.py?line=2031'>2032</a>\u001b[0m \u001b[39m    Return unique values of Series object.\u001b[39;00m\n\u001b[1;32m   <a href='file:///opt/conda/lib/python3.8/site-packages/pandas/core/series.py?line=2032'>2033</a>\u001b[0m \n\u001b[0;32m   (...)\u001b[0m\n\u001b[1;32m   <a href='file:///opt/conda/lib/python3.8/site-packages/pandas/core/series.py?line=2085'>2086</a>\u001b[0m \u001b[39m    Categories (3, object): ['a' < 'b' < 'c']\u001b[39;00m\n\u001b[1;32m   <a href='file:///opt/conda/lib/python3.8/site-packages/pandas/core/series.py?line=2086'>2087</a>\u001b[0m \u001b[39m    \"\"\"\u001b[39;00m\n\u001b[0;32m-> <a href='file:///opt/conda/lib/python3.8/site-packages/pandas/core/series.py?line=2087'>2088</a>\u001b[0m     \u001b[39mreturn\u001b[39;00m \u001b[39msuper\u001b[39;49m()\u001b[39m.\u001b[39;49munique()\n",
      "File \u001b[0;32m/opt/conda/lib/python3.8/site-packages/pandas/core/base.py:989\u001b[0m, in \u001b[0;36mIndexOpsMixin.unique\u001b[0;34m(self)\u001b[0m\n\u001b[1;32m    <a href='file:///opt/conda/lib/python3.8/site-packages/pandas/core/base.py?line=986'>987</a>\u001b[0m             result \u001b[39m=\u001b[39m np\u001b[39m.\u001b[39masarray(result)\n\u001b[1;32m    <a href='file:///opt/conda/lib/python3.8/site-packages/pandas/core/base.py?line=987'>988</a>\u001b[0m \u001b[39melse\u001b[39;00m:\n\u001b[0;32m--> <a href='file:///opt/conda/lib/python3.8/site-packages/pandas/core/base.py?line=988'>989</a>\u001b[0m     result \u001b[39m=\u001b[39m unique1d(values)\n\u001b[1;32m    <a href='file:///opt/conda/lib/python3.8/site-packages/pandas/core/base.py?line=990'>991</a>\u001b[0m \u001b[39mreturn\u001b[39;00m result\n",
      "File \u001b[0;32m/opt/conda/lib/python3.8/site-packages/pandas/core/algorithms.py:440\u001b[0m, in \u001b[0;36munique\u001b[0;34m(values)\u001b[0m\n\u001b[1;32m    <a href='file:///opt/conda/lib/python3.8/site-packages/pandas/core/algorithms.py?line=436'>437</a>\u001b[0m htable, values \u001b[39m=\u001b[39m _get_hashtable_algo(values)\n\u001b[1;32m    <a href='file:///opt/conda/lib/python3.8/site-packages/pandas/core/algorithms.py?line=438'>439</a>\u001b[0m table \u001b[39m=\u001b[39m htable(\u001b[39mlen\u001b[39m(values))\n\u001b[0;32m--> <a href='file:///opt/conda/lib/python3.8/site-packages/pandas/core/algorithms.py?line=439'>440</a>\u001b[0m uniques \u001b[39m=\u001b[39m table\u001b[39m.\u001b[39;49munique(values)\n\u001b[1;32m    <a href='file:///opt/conda/lib/python3.8/site-packages/pandas/core/algorithms.py?line=440'>441</a>\u001b[0m uniques \u001b[39m=\u001b[39m _reconstruct_data(uniques, original\u001b[39m.\u001b[39mdtype, original)\n\u001b[1;32m    <a href='file:///opt/conda/lib/python3.8/site-packages/pandas/core/algorithms.py?line=441'>442</a>\u001b[0m \u001b[39mreturn\u001b[39;00m uniques\n",
      "\u001b[0;31mKeyboardInterrupt\u001b[0m: "
     ]
    }
   ],
   "source": [
    "arr = []\n",
    "for i in range(10,100):\n",
    "    book_list = list(user_cnt[user_cnt[0] > i][1])\n",
    "    df_t = df.loc[df[1].isin(book_list)]\n",
    "    user_cnt = len(df_t[0].unique())\n",
    "    book_cnt = len(df_t[1].unique())\n",
    "    print(f'truc : {i}, rating : {len(df)}, book_cnt : {len(book_cnt)}, user_cnt : {len(user_cnt)}')"
   ]
  },
  {
   "cell_type": "code",
   "execution_count": 32,
   "metadata": {},
   "outputs": [
    {
     "data": {
      "text/plain": [
       "0     2603252\n",
       "1     1921473\n",
       "2     1540170\n",
       "3     1294390\n",
       "4     1119988\n",
       "       ...   \n",
       "95      84529\n",
       "96      83608\n",
       "97      82674\n",
       "98      81691\n",
       "99      80860\n",
       "Name: 1, Length: 100, dtype: int64"
      ]
     },
     "execution_count": 32,
     "metadata": {},
     "output_type": "execute_result"
    }
   ],
   "source": [
    "pd.DataFrame(arr)[1]"
   ]
  },
  {
   "cell_type": "code",
   "execution_count": 25,
   "metadata": {},
   "outputs": [],
   "source": [
    "for d in df[1] :\n",
    "    if len(d) != 10:\n",
    "        print(d)"
   ]
  },
  {
   "cell_type": "code",
   "execution_count": null,
   "metadata": {},
   "outputs": [],
   "source": []
  },
  {
   "cell_type": "code",
   "execution_count": null,
   "metadata": {},
   "outputs": [],
   "source": []
  },
  {
   "cell_type": "code",
   "execution_count": 28,
   "metadata": {},
   "outputs": [],
   "source": [
    "df_t = df.loc[df[0].isin(user_list)]"
   ]
  },
  {
   "cell_type": "code",
   "execution_count": 29,
   "metadata": {},
   "outputs": [],
   "source": [
    "df_t = df_t.loc[df[1].isin(book_list)]"
   ]
  },
  {
   "cell_type": "code",
   "execution_count": 30,
   "metadata": {},
   "outputs": [
    {
     "data": {
      "text/html": [
       "<div>\n",
       "<style scoped>\n",
       "    .dataframe tbody tr th:only-of-type {\n",
       "        vertical-align: middle;\n",
       "    }\n",
       "\n",
       "    .dataframe tbody tr th {\n",
       "        vertical-align: top;\n",
       "    }\n",
       "\n",
       "    .dataframe thead th {\n",
       "        text-align: right;\n",
       "    }\n",
       "</style>\n",
       "<table border=\"1\" class=\"dataframe\">\n",
       "  <thead>\n",
       "    <tr style=\"text-align: right;\">\n",
       "      <th></th>\n",
       "      <th>0</th>\n",
       "      <th>1</th>\n",
       "    </tr>\n",
       "  </thead>\n",
       "  <tbody>\n",
       "    <tr>\n",
       "      <th>1</th>\n",
       "      <td>A1REUF3A1YCPHM</td>\n",
       "      <td>0001713353</td>\n",
       "    </tr>\n",
       "    <tr>\n",
       "      <th>6</th>\n",
       "      <td>AVP0HXC9FG790</td>\n",
       "      <td>0001713353</td>\n",
       "    </tr>\n",
       "    <tr>\n",
       "      <th>12</th>\n",
       "      <td>A2RE7WG349NV5D</td>\n",
       "      <td>0001713353</td>\n",
       "    </tr>\n",
       "    <tr>\n",
       "      <th>23</th>\n",
       "      <td>A3H9YD6K9TVKDP</td>\n",
       "      <td>0001713353</td>\n",
       "    </tr>\n",
       "    <tr>\n",
       "      <th>24</th>\n",
       "      <td>A3M314LI9OYME</td>\n",
       "      <td>0001713353</td>\n",
       "    </tr>\n",
       "    <tr>\n",
       "      <th>...</th>\n",
       "      <td>...</td>\n",
       "      <td>...</td>\n",
       "    </tr>\n",
       "    <tr>\n",
       "      <th>51311557</th>\n",
       "      <td>A8ZI6L56V7MPP</td>\n",
       "      <td>B01HJ56VC4</td>\n",
       "    </tr>\n",
       "    <tr>\n",
       "      <th>51311558</th>\n",
       "      <td>A2HEB3SO7UJFI4</td>\n",
       "      <td>B01HJ56VC4</td>\n",
       "    </tr>\n",
       "    <tr>\n",
       "      <th>51311584</th>\n",
       "      <td>A2AYU3DW4HHCSJ</td>\n",
       "      <td>B01HJ8KWDU</td>\n",
       "    </tr>\n",
       "    <tr>\n",
       "      <th>51311586</th>\n",
       "      <td>A27FN30I1OVZM9</td>\n",
       "      <td>B01HJ8KWDU</td>\n",
       "    </tr>\n",
       "    <tr>\n",
       "      <th>51311591</th>\n",
       "      <td>A28D20IM3BNAJ1</td>\n",
       "      <td>B01HJ8KWDU</td>\n",
       "    </tr>\n",
       "  </tbody>\n",
       "</table>\n",
       "<p>19295707 rows × 2 columns</p>\n",
       "</div>"
      ],
      "text/plain": [
       "                       0           1\n",
       "1         A1REUF3A1YCPHM  0001713353\n",
       "6          AVP0HXC9FG790  0001713353\n",
       "12        A2RE7WG349NV5D  0001713353\n",
       "23        A3H9YD6K9TVKDP  0001713353\n",
       "24         A3M314LI9OYME  0001713353\n",
       "...                  ...         ...\n",
       "51311557   A8ZI6L56V7MPP  B01HJ56VC4\n",
       "51311558  A2HEB3SO7UJFI4  B01HJ56VC4\n",
       "51311584  A2AYU3DW4HHCSJ  B01HJ8KWDU\n",
       "51311586  A27FN30I1OVZM9  B01HJ8KWDU\n",
       "51311591  A28D20IM3BNAJ1  B01HJ8KWDU\n",
       "\n",
       "[19295707 rows x 2 columns]"
      ]
     },
     "execution_count": 30,
     "metadata": {},
     "output_type": "execute_result"
    }
   ],
   "source": [
    "df_t"
   ]
  },
  {
   "cell_type": "code",
   "execution_count": 31,
   "metadata": {},
   "outputs": [
    {
     "data": {
      "text/plain": [
       "0.004075411144894602"
      ]
     },
     "execution_count": 31,
     "metadata": {},
     "output_type": "execute_result"
    }
   ],
   "source": [
    "len(df_t) / (len(book_list) * len(user_list)) * 100"
   ]
  },
  {
   "cell_type": "code",
   "execution_count": 32,
   "metadata": {},
   "outputs": [
    {
     "data": {
      "text/plain": [
       "729092"
      ]
     },
     "execution_count": 32,
     "metadata": {},
     "output_type": "execute_result"
    }
   ],
   "source": [
    "len(user_list)"
   ]
  },
  {
   "cell_type": "code",
   "execution_count": 33,
   "metadata": {},
   "outputs": [
    {
     "data": {
      "text/plain": [
       "649392"
      ]
     },
     "execution_count": 33,
     "metadata": {},
     "output_type": "execute_result"
    }
   ],
   "source": [
    "len(book_list)"
   ]
  },
  {
   "cell_type": "code",
   "execution_count": 10,
   "metadata": {},
   "outputs": [
    {
     "name": "stderr",
     "output_type": "stream",
     "text": [
      "2934949it [00:50, 57971.66it/s]\n"
     ]
    }
   ],
   "source": [
    "i = 0\n",
    "with open('../data/isbn.txt', 'w') as f :\n",
    "    for data in tqdm(load_json_data()):\n",
    "        i += 1\n",
    "        f.write(data)\n",
    "        if i % 1000 == 0:\n",
    "            f.write('\\n')\n",
    "        else:\n",
    "            f.write(',')"
   ]
  },
  {
   "cell_type": "code",
   "execution_count": 1,
   "metadata": {},
   "outputs": [
    {
     "ename": "NameError",
     "evalue": "name 'tqdm' is not defined",
     "output_type": "error",
     "traceback": [
      "\u001b[0;31m---------------------------------------------------------------------------\u001b[0m",
      "\u001b[0;31mNameError\u001b[0m                                 Traceback (most recent call last)",
      "\u001b[1;32m/opt/ml/final_project/crawler/json_check.ipynb Cell 27'\u001b[0m in \u001b[0;36m<cell line: 2>\u001b[0;34m()\u001b[0m\n\u001b[1;32m      <a href='vscode-notebook-cell://ssh-remote%2B118.67.128.150/opt/ml/final_project/crawler/json_check.ipynb#ch0000026vscode-remote?line=2'>3</a>\u001b[0m data \u001b[39m=\u001b[39m f\u001b[39m.\u001b[39mreadline()\n\u001b[1;32m      <a href='vscode-notebook-cell://ssh-remote%2B118.67.128.150/opt/ml/final_project/crawler/json_check.ipynb#ch0000026vscode-remote?line=3'>4</a>\u001b[0m isbns \u001b[39m=\u001b[39m data\u001b[39m.\u001b[39msplit(\u001b[39m'\u001b[39m\u001b[39m,\u001b[39m\u001b[39m'\u001b[39m)\n\u001b[0;32m----> <a href='vscode-notebook-cell://ssh-remote%2B118.67.128.150/opt/ml/final_project/crawler/json_check.ipynb#ch0000026vscode-remote?line=4'>5</a>\u001b[0m \u001b[39mfor\u001b[39;00m isbn \u001b[39min\u001b[39;00m tqdm(isbns) :\n\u001b[1;32m      <a href='vscode-notebook-cell://ssh-remote%2B118.67.128.150/opt/ml/final_project/crawler/json_check.ipynb#ch0000026vscode-remote?line=5'>6</a>\u001b[0m     json_dic[\u001b[39m'\u001b[39m\u001b[39mimages\u001b[39m\u001b[39m'\u001b[39m]\u001b[39m.\u001b[39mappend({\u001b[39m'\u001b[39m\u001b[39misbn\u001b[39m\u001b[39m'\u001b[39m : isbn, \u001b[39m'\u001b[39m\u001b[39murl\u001b[39m\u001b[39m'\u001b[39m : \u001b[39mf\u001b[39m\u001b[39m'\u001b[39m\u001b[39mhttps://pictures.abebooks.com/isbn/\u001b[39m\u001b[39m{\u001b[39;00mto_isbn13(isbn)\u001b[39m}\u001b[39;00m\u001b[39m-us-300.jpg\u001b[39m\u001b[39m'\u001b[39m})\n",
      "\u001b[0;31mNameError\u001b[0m: name 'tqdm' is not defined"
     ]
    }
   ],
   "source": []
  },
  {
   "cell_type": "code",
   "execution_count": null,
   "metadata": {},
   "outputs": [],
   "source": []
  }
 ],
 "metadata": {
  "interpreter": {
   "hash": "d4d1e4263499bec80672ea0156c357c1ee493ec2b1c70f0acce89fc37c4a6abe"
  },
  "kernelspec": {
   "display_name": "Python 3 (ipykernel)",
   "language": "python",
   "name": "python3"
  },
  "language_info": {
   "codemirror_mode": {
    "name": "ipython",
    "version": 3
   },
   "file_extension": ".py",
   "mimetype": "text/x-python",
   "name": "python",
   "nbconvert_exporter": "python",
   "pygments_lexer": "ipython3",
   "version": "3.8.5"
  }
 },
 "nbformat": 4,
 "nbformat_minor": 4
}
