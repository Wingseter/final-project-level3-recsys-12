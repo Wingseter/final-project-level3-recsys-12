{
 "cells": [
  {
   "cell_type": "code",
   "execution_count": 3,
   "metadata": {},
   "outputs": [],
   "source": [
    "import yaml\n",
    "import json\n",
    "from bs4 import BeautifulSoup\n",
    "import requests\n",
    "import pandas as pd\n",
    "from tqdm import tqdm"
   ]
  },
  {
   "cell_type": "code",
   "execution_count": 4,
   "metadata": {},
   "outputs": [],
   "source": [
    "with open('api_key.yaml') as f :\n",
    "    API_KEY = yaml.load(f, yaml.FullLoader)['google_api']"
   ]
  },
  {
   "cell_type": "code",
   "execution_count": 37,
   "metadata": {},
   "outputs": [],
   "source": [
    "books = pd.read_csv('../data/Ratings.csv')"
   ]
  },
  {
   "cell_type": "code",
   "execution_count": 38,
   "metadata": {},
   "outputs": [],
   "source": [
    "books = books.groupby('ISBN', as_index=False).agg({'Book-Rating' : 'count'})"
   ]
  },
  {
   "cell_type": "code",
   "execution_count": 39,
   "metadata": {},
   "outputs": [],
   "source": [
    "book_ISBNs = list(books[books['Book-Rating'] >= 5]['ISBN'])"
   ]
  },
  {
   "cell_type": "code",
   "execution_count": 41,
   "metadata": {},
   "outputs": [
    {
     "name": "stdout",
     "output_type": "stream",
     "text": [
      "00000000 000000000 00000000000 000000000000 0000000000000 0006392172PBK 000714415 006101351 009177925 00977319 022406103 030371706 033031582 0345247191125 057113747400 059035342 064400077 064400085 06440031X 067697309 067976402 071831006998 080411868 088061430420 08881832240 10987654321 11204982 11238356 11254041 12123546500 13579108642 15916847 1592825X 17224918 22401269 22530152730 344235353 345245504195 357910864 380976587 381050723 399501487 55307200175 5601640090335 71908979 8014366020420 8022264188142 840000001 843397023 848997943 857237528 880447679 880611587 8807081563X 880781385 88741800047 887641272 899792145 905513369 9770104987002 9770390107900 9771129085131 9771129085155 9782020108928 9788877682208 987932504 M79702002 "
     ]
    }
   ],
   "source": [
    "for i in range(len(book_ISBNs)) :\n",
    "    if len(book_ISBNs[i]) != 10 :\n",
    "        print(book_ISBNs[i], end=' ')\n",
    "        book_ISBNs[i] = book_ISBNs[i].replace(' ', '')\n",
    "        book_ISBNs[i] = book_ISBNs[i].replace('/', '')\n",
    "        book_ISBNs[i] = book_ISBNs[i].replace('.', '')"
   ]
  },
  {
   "cell_type": "code",
   "execution_count": 28,
   "metadata": {},
   "outputs": [],
   "source": [
    "def get_data(*keys):\n",
    "    data = volume_info\n",
    "    global err_toggle\n",
    "    try :\n",
    "        for key in keys:\n",
    "            data = data[key]\n",
    "        return data\n",
    "    except :\n",
    "        err_toggle = 1\n",
    "        return None"
   ]
  },
  {
   "cell_type": "code",
   "execution_count": 46,
   "metadata": {},
   "outputs": [],
   "source": [
    "book_infos = pd.DataFrame(columns=['ISBN', 'ISBN13', 'description', 'page_cnt', 'categories', 'average_rating', 'rating_count', 'thumbnail', 'synopsis'])"
   ]
  },
  {
   "cell_type": "code",
   "execution_count": 48,
   "metadata": {},
   "outputs": [
    {
     "name": "stderr",
     "output_type": "stream",
     "text": [
      "  0%|          | 0/43765 [00:00<?, ?it/s]/opt/conda/lib/python3.8/site-packages/numpy/core/fromnumeric.py:3199: VisibleDeprecationWarning: Creating an ndarray from ragged nested sequences (which is a list-or-tuple of lists-or-tuples-or ndarrays with different lengths or shapes) is deprecated. If you meant to do this, you must specify 'dtype=object' when creating the ndarray.\n",
      "  return asarray(a).ndim\n",
      "  3%|▎         | 1465/43765 [26:36<11:42:56,  1.00it/s]/opt/conda/lib/python3.8/site-packages/numpy/core/fromnumeric.py:3199: VisibleDeprecationWarning: Creating an ndarray from ragged nested sequences (which is a list-or-tuple of lists-or-tuples-or ndarrays with different lengths or shapes) is deprecated. If you meant to do this, you must specify 'dtype=object' when creating the ndarray.\n",
      "  return asarray(a).ndim\n",
      "  4%|▍         | 1824/43765 [33:40<14:39:43,  1.26s/it]/opt/conda/lib/python3.8/site-packages/numpy/core/fromnumeric.py:3199: VisibleDeprecationWarning: Creating an ndarray from ragged nested sequences (which is a list-or-tuple of lists-or-tuples-or ndarrays with different lengths or shapes) is deprecated. If you meant to do this, you must specify 'dtype=object' when creating the ndarray.\n",
      "  return asarray(a).ndim\n",
      "  5%|▌         | 2307/43765 [43:38<12:22:52,  1.08s/it]/opt/conda/lib/python3.8/site-packages/numpy/core/fromnumeric.py:3199: VisibleDeprecationWarning: Creating an ndarray from ragged nested sequences (which is a list-or-tuple of lists-or-tuples-or ndarrays with different lengths or shapes) is deprecated. If you meant to do this, you must specify 'dtype=object' when creating the ndarray.\n",
      "  return asarray(a).ndim\n",
      "  5%|▌         | 2313/43765 [43:45<13:03:09,  1.13s/it]/opt/conda/lib/python3.8/site-packages/numpy/core/fromnumeric.py:3199: VisibleDeprecationWarning: Creating an ndarray from ragged nested sequences (which is a list-or-tuple of lists-or-tuples-or ndarrays with different lengths or shapes) is deprecated. If you meant to do this, you must specify 'dtype=object' when creating the ndarray.\n",
      "  return asarray(a).ndim\n",
      "  6%|▌         | 2574/43765 [48:22<11:01:26,  1.04it/s]/opt/conda/lib/python3.8/site-packages/numpy/core/fromnumeric.py:3199: VisibleDeprecationWarning: Creating an ndarray from ragged nested sequences (which is a list-or-tuple of lists-or-tuples-or ndarrays with different lengths or shapes) is deprecated. If you meant to do this, you must specify 'dtype=object' when creating the ndarray.\n",
      "  return asarray(a).ndim\n",
      "  7%|▋         | 2890/43765 [53:13<16:24:33,  1.45s/it]"
     ]
    }
   ],
   "source": [
    "row_num = 0\n",
    "no_data_cnt = 0\n",
    "err_cnt = 0\n",
    "\n",
    "for i in tqdm(range(len(book_ISBNs))) :\n",
    "    \n",
    "    ISBN = book_ISBNs[i]\n",
    "    err_toggle = 0\n",
    "    \n",
    "    response = requests.get(f\"https://www.googleapis.com/books/v1/volumes?q={ISBN}\")\n",
    "    \n",
    "    try : volume_info = response.json()['items'][0]['volumeInfo']\n",
    "    except :\n",
    "        no_data_cnt += 1\n",
    "        book_infos.loc[row_num] = [ISBN, None, None, None, None, None, None, None, None]\n",
    "        row_num += 1\n",
    "        continue   \n",
    "    \n",
    "    try :\n",
    "        if volume_info['industryIdentifiers'][0][\"identifier\"] != ISBN:\n",
    "            no_data_cnt += 1\n",
    "            book_infos.loc[row_num] = [ISBN, None, None, None, None, None, None, None, None]\n",
    "            row_num += 1\n",
    "            continue\n",
    "    except :\n",
    "        no_data_cnt += 1\n",
    "        book_infos.loc[row_num] = [ISBN, None, None, None, None, None, None, None, None]\n",
    "        continue\n",
    "        \n",
    "    \n",
    "    description = get_data('description')\n",
    "    ISBN_13 = get_data('industryIdentifiers', 1, \"identifier\")\n",
    "    page_cnt = get_data('pageCount')\n",
    "    categories = get_data('categories')\n",
    "    average_rating = get_data('averageRating')\n",
    "    rating_count = get_data('ratingsCount')\n",
    "    thumbnail = get_data('imageLinks', 'thumbnail')\n",
    "    info_link = get_data('infoLink')\n",
    "    \n",
    "    if info_link != None : \n",
    "        html = BeautifulSoup(requests.get(info_link).text)\n",
    "        try : synopsis = html.select_one('#synopsistext').text\n",
    "        except : synopsis = None\n",
    "        \n",
    "    if err_toggle == 1 :\n",
    "        err_cnt += 1\n",
    "    \n",
    "    book_infos.loc[row_num] = [ISBN, ISBN_13, description, page_cnt, categories, average_rating, rating_count, thumbnail, synopsis]\n",
    "    \n",
    "    row_num += 1"
   ]
  },
  {
   "cell_type": "code",
   "execution_count": null,
   "metadata": {},
   "outputs": [],
   "source": []
  },
  {
   "cell_type": "code",
   "execution_count": null,
   "metadata": {},
   "outputs": [],
   "source": []
  },
  {
   "cell_type": "code",
   "execution_count": null,
   "metadata": {},
   "outputs": [],
   "source": []
  },
  {
   "cell_type": "code",
   "execution_count": null,
   "metadata": {},
   "outputs": [],
   "source": []
  }
 ],
 "metadata": {
  "interpreter": {
   "hash": "d4d1e4263499bec80672ea0156c357c1ee493ec2b1c70f0acce89fc37c4a6abe"
  },
  "kernelspec": {
   "display_name": "Python 3.8.5 ('base')",
   "language": "python",
   "name": "python3"
  },
  "language_info": {
   "codemirror_mode": {
    "name": "ipython",
    "version": 3
   },
   "file_extension": ".py",
   "mimetype": "text/x-python",
   "name": "python",
   "nbconvert_exporter": "python",
   "pygments_lexer": "ipython3",
   "version": "3.8.5"
  },
  "orig_nbformat": 4
 },
 "nbformat": 4,
 "nbformat_minor": 2
}
