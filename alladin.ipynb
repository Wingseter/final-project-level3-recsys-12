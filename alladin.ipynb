{
 "cells": [
  {
   "cell_type": "code",
   "execution_count": 293,
   "id": "4b73b596",
   "metadata": {},
   "outputs": [],
   "source": [
    "import requests\n",
    "import json\n",
    "\n",
    "#키와 url 정의\n",
    "TTBkey = \"여기넣어주세용\"\n",
    "best_list = []\n",
    "for num in range(1,201):\n",
    "    url = f\"http://www.aladin.co.kr/ttb/api/ItemList.aspx?ttbkey={TTBkey}&QueryType=Bestseller\"\\\n",
    "        \"&MaxResults=50&start={num}&SearchTarget=Book&output=js&Version=20131101\"\n",
    "    response = requests.get(url)\n",
    "\n",
    "    response_json = json.loads(response.text)\n",
    "    #확인\n",
    "    for i in response_json['item']:\n",
    "        best_list.append(i['title'])"
   ]
  },
  {
   "cell_type": "code",
   "execution_count": 276,
   "id": "de26ecbf",
   "metadata": {},
   "outputs": [],
   "source": [
    "from selenium import webdriver\n",
    "from selenium.webdriver.common.keys import Keys\n",
    "import time\n",
    "\n",
    "url = response_json['item'][1]['link']\n",
    "driver = webdriver.Chrome('./chromedriver')\n",
    "driver.get(url)\n",
    "time.sleep(1)"
   ]
  },
  {
   "cell_type": "code",
   "execution_count": 277,
   "id": "d1357f1a",
   "metadata": {},
   "outputs": [],
   "source": [
    "import datetime\n",
    "\n",
    "def doScrollDown(whileSeconds):\n",
    "    start = datetime.datetime.now()\n",
    "    end = start + datetime.timedelta(seconds=whileSeconds)\n",
    "    while True:\n",
    "        driver.execute_script('window.scrollTo(0, 5000);')\n",
    "        if datetime.datetime.now() > end:\n",
    "            break\n",
    "\n",
    "doScrollDown(5)"
   ]
  },
  {
   "cell_type": "code",
   "execution_count": 278,
   "id": "b8ed8061",
   "metadata": {},
   "outputs": [],
   "source": [
    "for i in range(100):\n",
    "    try:\n",
    "        box = driver.find_element_by_xpath('//*[@id=\"divReviewPageMore\"]/div[1]/a')\n",
    "        box.click()\n",
    "    except:\n",
    "        break\n"
   ]
  },
  {
   "cell_type": "code",
   "execution_count": 279,
   "id": "c62af176",
   "metadata": {},
   "outputs": [],
   "source": [
    "a = driver.find_elements_by_css_selector(\"a.Ere_sub_gray8.Ere_fs13.Ere_PR10\")\n",
    "user_site = set()\n",
    "for i in a:\n",
    "    user_site.add(i.get_attribute('href'))\n",
    "\n"
   ]
  },
  {
   "cell_type": "code",
   "execution_count": 280,
   "id": "0ac3161d",
   "metadata": {},
   "outputs": [],
   "source": [
    "import requests\n",
    "from bs4 import BeautifulSoup\n",
    "\n",
    "url = list(user_site)[0]\n",
    "\n",
    "response = requests.get(url)\n",
    "\n",
    "\n",
    "html = response.text\n",
    "soup = BeautifulSoup(html, 'html.parser')\n",
    "c = soup.find_all(\"a\",\"bo\")\n",
    "for i in c:\n",
    "    print(i.text)"
   ]
  }
 ],
 "metadata": {
  "interpreter": {
   "hash": "2bf897e74dab5aac5f2c54973cfd669d345d3acd814bbd081e8c89e03988b521"
  },
  "kernelspec": {
   "display_name": "Python 3.8.8 ('base')",
   "language": "python",
   "name": "python3"
  },
  "language_info": {
   "codemirror_mode": {
    "name": "ipython",
    "version": 3
   },
   "file_extension": ".py",
   "mimetype": "text/x-python",
   "name": "python",
   "nbconvert_exporter": "python",
   "pygments_lexer": "ipython3",
   "version": "3.8.8"
  }
 },
 "nbformat": 4,
 "nbformat_minor": 5
}
