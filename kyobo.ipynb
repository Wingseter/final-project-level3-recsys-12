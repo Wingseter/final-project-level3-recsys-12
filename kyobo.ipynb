{
 "cells": [
  {
   "cell_type": "code",
   "execution_count": 18,
   "metadata": {},
   "outputs": [],
   "source": [
    "from selenium import webdriver\n",
    "from selenium.webdriver.common.keys import Keys\n",
    "import time\n",
    "\n",
    "url = \"http://www.kyobobook.co.kr/product/detailViewKor.laf?mallGb=KOR&ejkGb=KOR&barcode=9788970129815\"\n",
    "driver = webdriver.Chrome('./chromedriver')\n",
    "driver.get(url)\n",
    "time.sleep(1)"
   ]
  },
  {
   "cell_type": "code",
   "execution_count": 19,
   "metadata": {},
   "outputs": [],
   "source": [
    "box = driver.find_element_by_xpath('//*[@id=\"container\"]/div[5]/div[1]/div[4]/h2[2]/small/a[1]')\n",
    "box.click()"
   ]
  },
  {
   "cell_type": "code",
   "execution_count": 25,
   "metadata": {},
   "outputs": [
    {
     "name": "stdout",
     "output_type": "stream",
     "text": [
      "sk**g2001\n",
      "pi**u98\n",
      "xl**nei\n",
      "hy**jiny13\n",
      "mo**ardin\n"
     ]
    }
   ],
   "source": [
    "a = driver.find_elements_by_css_selector(\"span.info\")\n",
    "for i in a:\n",
    "    temp = i.find_element_by_tag_name(\"a\")\n",
    "    # temp.click()\n",
    "    print(temp.text)"
   ]
  },
  {
   "cell_type": "code",
   "execution_count": 12,
   "metadata": {},
   "outputs": [],
   "source": [
    "i.get_attribute('href')"
   ]
  },
  {
   "cell_type": "code",
   "execution_count": 2,
   "metadata": {},
   "outputs": [],
   "source": [
    "box = driver.find_element_by_xpath('//*[@id=\"container\"]/div[5]/div[1]/div[4]/ul/li[1]/div[1]/span/a')\n",
    "box.click()"
   ]
  },
  {
   "cell_type": "code",
   "execution_count": null,
   "metadata": {},
   "outputs": [],
   "source": []
  }
 ],
 "metadata": {
  "interpreter": {
   "hash": "2bf897e74dab5aac5f2c54973cfd669d345d3acd814bbd081e8c89e03988b521"
  },
  "kernelspec": {
   "display_name": "Python 3.8.8 ('base')",
   "language": "python",
   "name": "python3"
  },
  "language_info": {
   "codemirror_mode": {
    "name": "ipython",
    "version": 3
   },
   "file_extension": ".py",
   "mimetype": "text/x-python",
   "name": "python",
   "nbconvert_exporter": "python",
   "pygments_lexer": "ipython3",
   "version": "3.8.8"
  },
  "orig_nbformat": 4
 },
 "nbformat": 4,
 "nbformat_minor": 2
}
